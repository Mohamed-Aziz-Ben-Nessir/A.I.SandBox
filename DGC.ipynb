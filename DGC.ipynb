{
 "cells": [
  {
   "cell_type": "code",
   "execution_count": 8,
   "id": "c7b979ce-576e-4d05-804b-5997ce7cb6b6",
   "metadata": {},
   "outputs": [],
   "source": [
    "def compute_similarity_metric(node_emb):\n",
    "    node_vec_norm = node_emb.div(torch.norm(node_emb, p=2, dim=-1, keepdim=True))\n",
    "    attention = torch.mm(node_vec_norm, node_vec_norm.transpose(-1, -2)).detach()\n",
    "    return attention"
   ]
  },
  {
   "cell_type": "code",
   "execution_count": null,
   "id": "d26c275d-ca75-456c-90b3-6124732ee3b7",
   "metadata": {},
   "outputs": [],
   "source": [
    "def build_epsilon_neighbourhood(adj, epsilon_neigh=3):\n",
    "    mask = (adj > epsilon_neigh).detach().float()\n",
    "    weighted_adj = adj * mask\n",
    "    return weighted_adj"
   ]
  },
  {
   "cell_type": "code",
   "execution_count": null,
   "id": "e7519869-3512-431d-bb86-9ae27ced6934",
   "metadata": {},
   "outputs": [],
   "source": [
    "def sparsify_graph(adj):\n",
    "    adj=build_epsilon_neighbourhood(adj)\n",
    "    return adj"
   ]
  },
  {
   "cell_type": "code",
   "execution_count": null,
   "id": "a9ceaf37-6bd3-478a-bbd9-4f3b54de1249",
   "metadata": {},
   "outputs": [],
   "source": [
    "raw_adj = (raw_adj > 0).float()\n",
    "adj = normalize_adj(raw_adj)\n",
    "reverse_adj = adj"
   ]
  }
 ],
 "metadata": {
  "kernelspec": {
   "display_name": "Python 3 (ipykernel)",
   "language": "python",
   "name": "python3"
  },
  "language_info": {
   "codemirror_mode": {
    "name": "ipython",
    "version": 3
   },
   "file_extension": ".py",
   "mimetype": "text/x-python",
   "name": "python",
   "nbconvert_exporter": "python",
   "pygments_lexer": "ipython3",
   "version": "3.9.7"
  }
 },
 "nbformat": 4,
 "nbformat_minor": 5
}
