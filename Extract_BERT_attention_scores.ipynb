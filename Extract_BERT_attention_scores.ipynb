{
 "cells": [
  {
   "cell_type": "code",
   "execution_count": 13,
   "id": "fceb0406-7dfd-4c90-ac8d-d34c7ab31a1f",
   "metadata": {},
   "outputs": [],
   "source": [
    "import torch\n",
    "from transformers import AutoTokenizer, AutoModel, AutoConfig\n"
   ]
  },
  {
   "cell_type": "code",
   "execution_count": 14,
   "id": "95c0dca6-aa62-47cd-b495-e058cae88d45",
   "metadata": {},
   "outputs": [
    {
     "name": "stderr",
     "output_type": "stream",
     "text": [
      "Some weights of the model checkpoint at bert-base-uncased were not used when initializing BertModel: ['cls.seq_relationship.weight', 'cls.seq_relationship.bias', 'cls.predictions.transform.dense.weight', 'cls.predictions.transform.dense.bias', 'cls.predictions.decoder.weight', 'cls.predictions.bias', 'cls.predictions.transform.LayerNorm.bias', 'cls.predictions.transform.LayerNorm.weight']\n",
      "- This IS expected if you are initializing BertModel from the checkpoint of a model trained on another task or with another architecture (e.g. initializing a BertForSequenceClassification model from a BertForPreTraining model).\n",
      "- This IS NOT expected if you are initializing BertModel from the checkpoint of a model that you expect to be exactly identical (initializing a BertForSequenceClassification model from a BertForSequenceClassification model).\n"
     ]
    }
   ],
   "source": [
    "model_name = 'bert-base-uncased'\n",
    "config = AutoConfig.from_pretrained(model_name,output_attentions=True)\n",
    "model = AutoModel.from_pretrained(model_name,config = config).to('cuda')\n",
    "tokenizer = AutoTokenizer.from_pretrained(model_name)"
   ]
  },
  {
   "cell_type": "code",
   "execution_count": 37,
   "id": "96d63fcc-7917-425c-a1ba-87e4f59216d4",
   "metadata": {},
   "outputs": [],
   "source": [
    "text1 = 'We met today and she wanted to'\n",
    "tok = tokenizer.tokenize(text1)\n",
    "p_pos = len(tok1) "
   ]
  },
  {
   "cell_type": "code",
   "execution_count": 44,
   "id": "02af3472-0ca6-40a1-8c41-16cf66659e95",
   "metadata": {},
   "outputs": [],
   "source": [
    "ids = torch.tensor(tokenizer.convert_tokens_to_ids(tok)).unsqueeze(0).to('cuda')\n",
    "with torch.no_grad():\n",
    "    output = model(ids)"
   ]
  },
  {
   "cell_type": "code",
   "execution_count": 53,
   "id": "0568fd93-046e-4bff-805b-0161a75ed6c4",
   "metadata": {},
   "outputs": [],
   "source": [
    "attentions = torch.cat(output[2]).to('cpu')\n"
   ]
  },
  {
   "cell_type": "code",
   "execution_count": 46,
   "id": "058ef49e-a40e-4545-ac7b-a13bbc540eeb",
   "metadata": {},
   "outputs": [
    {
     "data": {
      "text/plain": [
       "torch.Size([12, 12, 7, 7])"
      ]
     },
     "execution_count": 46,
     "metadata": {},
     "output_type": "execute_result"
    }
   ],
   "source": [
    "attentions.shape #(layer, batch_size (squeezed by torch.cat), num_heads, sequence_length, sequence_length)\n"
   ]
  },
  {
   "cell_type": "code",
   "execution_count": 50,
   "id": "4345f737-7778-4047-9ad7-dfb5408d4478",
   "metadata": {},
   "outputs": [],
   "source": [
    "attentions = attentions.permute(2,1,0,3)\n"
   ]
  },
  {
   "cell_type": "code",
   "execution_count": 54,
   "id": "8024205f-a436-4f9a-bd3c-1b5851274e0a",
   "metadata": {},
   "outputs": [
    {
     "data": {
      "text/plain": [
       "torch.Size([12, 12, 7, 7])"
      ]
     },
     "execution_count": 54,
     "metadata": {},
     "output_type": "execute_result"
    }
   ],
   "source": [
    " attentions.shape"
   ]
  },
  {
   "cell_type": "code",
   "execution_count": 55,
   "id": "1923b485-cba4-4c52-b26b-69e3ac35cdd4",
   "metadata": {},
   "outputs": [],
   "source": [
    "#https://krishansubudhi.github.io/deeplearning/2019/09/26/BertAttention.html"
   ]
  },
  {
   "cell_type": "code",
   "execution_count": null,
   "id": "08ba956e-371c-4bb7-b18e-07f3ab5aee59",
   "metadata": {},
   "outputs": [],
   "source": []
  }
 ],
 "metadata": {
  "kernelspec": {
   "display_name": "Python 3 (ipykernel)",
   "language": "python",
   "name": "python3"
  },
  "language_info": {
   "codemirror_mode": {
    "name": "ipython",
    "version": 3
   },
   "file_extension": ".py",
   "mimetype": "text/x-python",
   "name": "python",
   "nbconvert_exporter": "python",
   "pygments_lexer": "ipython3",
   "version": "3.9.7"
  }
 },
 "nbformat": 4,
 "nbformat_minor": 5
}
