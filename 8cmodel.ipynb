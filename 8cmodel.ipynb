{
  "metadata": {
    "kernelspec": {
      "language": "python",
      "display_name": "Python 3",
      "name": "python3"
    },
    "language_info": {
      "name": "python",
      "version": "3.7.12",
      "mimetype": "text/x-python",
      "codemirror_mode": {
        "name": "ipython",
        "version": 3
      },
      "pygments_lexer": "ipython3",
      "nbconvert_exporter": "python",
      "file_extension": ".py"
    },
    "colab": {
      "provenance": []
    },
    "accelerator": "TPU",
    "widgets": {
      "application/vnd.jupyter.widget-state+json": {
        "3d010400fcf3484387ce30f914152928": {
          "model_module": "@jupyter-widgets/controls",
          "model_name": "HBoxModel",
          "model_module_version": "1.5.0",
          "state": {
            "_dom_classes": [],
            "_model_module": "@jupyter-widgets/controls",
            "_model_module_version": "1.5.0",
            "_model_name": "HBoxModel",
            "_view_count": null,
            "_view_module": "@jupyter-widgets/controls",
            "_view_module_version": "1.5.0",
            "_view_name": "HBoxView",
            "box_style": "",
            "children": [
              "IPY_MODEL_f197d86ed918434a9bbac4c3c6bb865d",
              "IPY_MODEL_fde7008b898e44c186eecb26f665e882",
              "IPY_MODEL_479ca2f6cc8545e1b675bb2bc37b3302"
            ],
            "layout": "IPY_MODEL_93792c51284540b4b788ce616fe63fba"
          }
        },
        "f197d86ed918434a9bbac4c3c6bb865d": {
          "model_module": "@jupyter-widgets/controls",
          "model_name": "HTMLModel",
          "model_module_version": "1.5.0",
          "state": {
            "_dom_classes": [],
            "_model_module": "@jupyter-widgets/controls",
            "_model_module_version": "1.5.0",
            "_model_name": "HTMLModel",
            "_view_count": null,
            "_view_module": "@jupyter-widgets/controls",
            "_view_module_version": "1.5.0",
            "_view_name": "HTMLView",
            "description": "",
            "description_tooltip": null,
            "layout": "IPY_MODEL_9f3fcd8a7b814e63b3c4885d790d8996",
            "placeholder": "​",
            "style": "IPY_MODEL_45a1edd7eef44824a99be65799687ddb",
            "value": "Downloading: 100%"
          }
        },
        "fde7008b898e44c186eecb26f665e882": {
          "model_module": "@jupyter-widgets/controls",
          "model_name": "FloatProgressModel",
          "model_module_version": "1.5.0",
          "state": {
            "_dom_classes": [],
            "_model_module": "@jupyter-widgets/controls",
            "_model_module_version": "1.5.0",
            "_model_name": "FloatProgressModel",
            "_view_count": null,
            "_view_module": "@jupyter-widgets/controls",
            "_view_module_version": "1.5.0",
            "_view_name": "ProgressView",
            "bar_style": "success",
            "description": "",
            "description_tooltip": null,
            "layout": "IPY_MODEL_624034caf93a4ed9b2b4defe7f246b25",
            "max": 439,
            "min": 0,
            "orientation": "horizontal",
            "style": "IPY_MODEL_178c4edc36014e0b87f9b0cac80d2339",
            "value": 439
          }
        },
        "479ca2f6cc8545e1b675bb2bc37b3302": {
          "model_module": "@jupyter-widgets/controls",
          "model_name": "HTMLModel",
          "model_module_version": "1.5.0",
          "state": {
            "_dom_classes": [],
            "_model_module": "@jupyter-widgets/controls",
            "_model_module_version": "1.5.0",
            "_model_name": "HTMLModel",
            "_view_count": null,
            "_view_module": "@jupyter-widgets/controls",
            "_view_module_version": "1.5.0",
            "_view_name": "HTMLView",
            "description": "",
            "description_tooltip": null,
            "layout": "IPY_MODEL_96f3977405254089bda5201f44e847dc",
            "placeholder": "​",
            "style": "IPY_MODEL_6cbc6b3a83814607a25fabd9ecc9f846",
            "value": " 439/439 [00:00&lt;00:00, 8.69kB/s]"
          }
        },
        "93792c51284540b4b788ce616fe63fba": {
          "model_module": "@jupyter-widgets/base",
          "model_name": "LayoutModel",
          "model_module_version": "1.2.0",
          "state": {
            "_model_module": "@jupyter-widgets/base",
            "_model_module_version": "1.2.0",
            "_model_name": "LayoutModel",
            "_view_count": null,
            "_view_module": "@jupyter-widgets/base",
            "_view_module_version": "1.2.0",
            "_view_name": "LayoutView",
            "align_content": null,
            "align_items": null,
            "align_self": null,
            "border": null,
            "bottom": null,
            "display": null,
            "flex": null,
            "flex_flow": null,
            "grid_area": null,
            "grid_auto_columns": null,
            "grid_auto_flow": null,
            "grid_auto_rows": null,
            "grid_column": null,
            "grid_gap": null,
            "grid_row": null,
            "grid_template_areas": null,
            "grid_template_columns": null,
            "grid_template_rows": null,
            "height": null,
            "justify_content": null,
            "justify_items": null,
            "left": null,
            "margin": null,
            "max_height": null,
            "max_width": null,
            "min_height": null,
            "min_width": null,
            "object_fit": null,
            "object_position": null,
            "order": null,
            "overflow": null,
            "overflow_x": null,
            "overflow_y": null,
            "padding": null,
            "right": null,
            "top": null,
            "visibility": null,
            "width": null
          }
        },
        "9f3fcd8a7b814e63b3c4885d790d8996": {
          "model_module": "@jupyter-widgets/base",
          "model_name": "LayoutModel",
          "model_module_version": "1.2.0",
          "state": {
            "_model_module": "@jupyter-widgets/base",
            "_model_module_version": "1.2.0",
            "_model_name": "LayoutModel",
            "_view_count": null,
            "_view_module": "@jupyter-widgets/base",
            "_view_module_version": "1.2.0",
            "_view_name": "LayoutView",
            "align_content": null,
            "align_items": null,
            "align_self": null,
            "border": null,
            "bottom": null,
            "display": null,
            "flex": null,
            "flex_flow": null,
            "grid_area": null,
            "grid_auto_columns": null,
            "grid_auto_flow": null,
            "grid_auto_rows": null,
            "grid_column": null,
            "grid_gap": null,
            "grid_row": null,
            "grid_template_areas": null,
            "grid_template_columns": null,
            "grid_template_rows": null,
            "height": null,
            "justify_content": null,
            "justify_items": null,
            "left": null,
            "margin": null,
            "max_height": null,
            "max_width": null,
            "min_height": null,
            "min_width": null,
            "object_fit": null,
            "object_position": null,
            "order": null,
            "overflow": null,
            "overflow_x": null,
            "overflow_y": null,
            "padding": null,
            "right": null,
            "top": null,
            "visibility": null,
            "width": null
          }
        },
        "45a1edd7eef44824a99be65799687ddb": {
          "model_module": "@jupyter-widgets/controls",
          "model_name": "DescriptionStyleModel",
          "model_module_version": "1.5.0",
          "state": {
            "_model_module": "@jupyter-widgets/controls",
            "_model_module_version": "1.5.0",
            "_model_name": "DescriptionStyleModel",
            "_view_count": null,
            "_view_module": "@jupyter-widgets/base",
            "_view_module_version": "1.2.0",
            "_view_name": "StyleView",
            "description_width": ""
          }
        },
        "624034caf93a4ed9b2b4defe7f246b25": {
          "model_module": "@jupyter-widgets/base",
          "model_name": "LayoutModel",
          "model_module_version": "1.2.0",
          "state": {
            "_model_module": "@jupyter-widgets/base",
            "_model_module_version": "1.2.0",
            "_model_name": "LayoutModel",
            "_view_count": null,
            "_view_module": "@jupyter-widgets/base",
            "_view_module_version": "1.2.0",
            "_view_name": "LayoutView",
            "align_content": null,
            "align_items": null,
            "align_self": null,
            "border": null,
            "bottom": null,
            "display": null,
            "flex": null,
            "flex_flow": null,
            "grid_area": null,
            "grid_auto_columns": null,
            "grid_auto_flow": null,
            "grid_auto_rows": null,
            "grid_column": null,
            "grid_gap": null,
            "grid_row": null,
            "grid_template_areas": null,
            "grid_template_columns": null,
            "grid_template_rows": null,
            "height": null,
            "justify_content": null,
            "justify_items": null,
            "left": null,
            "margin": null,
            "max_height": null,
            "max_width": null,
            "min_height": null,
            "min_width": null,
            "object_fit": null,
            "object_position": null,
            "order": null,
            "overflow": null,
            "overflow_x": null,
            "overflow_y": null,
            "padding": null,
            "right": null,
            "top": null,
            "visibility": null,
            "width": null
          }
        },
        "178c4edc36014e0b87f9b0cac80d2339": {
          "model_module": "@jupyter-widgets/controls",
          "model_name": "ProgressStyleModel",
          "model_module_version": "1.5.0",
          "state": {
            "_model_module": "@jupyter-widgets/controls",
            "_model_module_version": "1.5.0",
            "_model_name": "ProgressStyleModel",
            "_view_count": null,
            "_view_module": "@jupyter-widgets/base",
            "_view_module_version": "1.2.0",
            "_view_name": "StyleView",
            "bar_color": null,
            "description_width": ""
          }
        },
        "96f3977405254089bda5201f44e847dc": {
          "model_module": "@jupyter-widgets/base",
          "model_name": "LayoutModel",
          "model_module_version": "1.2.0",
          "state": {
            "_model_module": "@jupyter-widgets/base",
            "_model_module_version": "1.2.0",
            "_model_name": "LayoutModel",
            "_view_count": null,
            "_view_module": "@jupyter-widgets/base",
            "_view_module_version": "1.2.0",
            "_view_name": "LayoutView",
            "align_content": null,
            "align_items": null,
            "align_self": null,
            "border": null,
            "bottom": null,
            "display": null,
            "flex": null,
            "flex_flow": null,
            "grid_area": null,
            "grid_auto_columns": null,
            "grid_auto_flow": null,
            "grid_auto_rows": null,
            "grid_column": null,
            "grid_gap": null,
            "grid_row": null,
            "grid_template_areas": null,
            "grid_template_columns": null,
            "grid_template_rows": null,
            "height": null,
            "justify_content": null,
            "justify_items": null,
            "left": null,
            "margin": null,
            "max_height": null,
            "max_width": null,
            "min_height": null,
            "min_width": null,
            "object_fit": null,
            "object_position": null,
            "order": null,
            "overflow": null,
            "overflow_x": null,
            "overflow_y": null,
            "padding": null,
            "right": null,
            "top": null,
            "visibility": null,
            "width": null
          }
        },
        "6cbc6b3a83814607a25fabd9ecc9f846": {
          "model_module": "@jupyter-widgets/controls",
          "model_name": "DescriptionStyleModel",
          "model_module_version": "1.5.0",
          "state": {
            "_model_module": "@jupyter-widgets/controls",
            "_model_module_version": "1.5.0",
            "_model_name": "DescriptionStyleModel",
            "_view_count": null,
            "_view_module": "@jupyter-widgets/base",
            "_view_module_version": "1.2.0",
            "_view_name": "StyleView",
            "description_width": ""
          }
        },
        "8b7cd2d439614fd399c7dcc217a09b9b": {
          "model_module": "@jupyter-widgets/controls",
          "model_name": "HBoxModel",
          "model_module_version": "1.5.0",
          "state": {
            "_dom_classes": [],
            "_model_module": "@jupyter-widgets/controls",
            "_model_module_version": "1.5.0",
            "_model_name": "HBoxModel",
            "_view_count": null,
            "_view_module": "@jupyter-widgets/controls",
            "_view_module_version": "1.5.0",
            "_view_name": "HBoxView",
            "box_style": "",
            "children": [
              "IPY_MODEL_b51f81d89053436ea5fea22f8793ea8a",
              "IPY_MODEL_4e08d31f48bb45ae84d5698c1adf2c32",
              "IPY_MODEL_17862de464924abd86441852006724cc"
            ],
            "layout": "IPY_MODEL_2e7c528469874c8e99b38f84a7a5f2c2"
          }
        },
        "b51f81d89053436ea5fea22f8793ea8a": {
          "model_module": "@jupyter-widgets/controls",
          "model_name": "HTMLModel",
          "model_module_version": "1.5.0",
          "state": {
            "_dom_classes": [],
            "_model_module": "@jupyter-widgets/controls",
            "_model_module_version": "1.5.0",
            "_model_name": "HTMLModel",
            "_view_count": null,
            "_view_module": "@jupyter-widgets/controls",
            "_view_module_version": "1.5.0",
            "_view_name": "HTMLView",
            "description": "",
            "description_tooltip": null,
            "layout": "IPY_MODEL_5f86c85bb83d459dbcf50aceb17276a5",
            "placeholder": "​",
            "style": "IPY_MODEL_e62700221aba473a898ad2db30bc746f",
            "value": "Downloading: 100%"
          }
        },
        "4e08d31f48bb45ae84d5698c1adf2c32": {
          "model_module": "@jupyter-widgets/controls",
          "model_name": "FloatProgressModel",
          "model_module_version": "1.5.0",
          "state": {
            "_dom_classes": [],
            "_model_module": "@jupyter-widgets/controls",
            "_model_module_version": "1.5.0",
            "_model_name": "FloatProgressModel",
            "_view_count": null,
            "_view_module": "@jupyter-widgets/controls",
            "_view_module_version": "1.5.0",
            "_view_name": "ProgressView",
            "bar_style": "success",
            "description": "",
            "description_tooltip": null,
            "layout": "IPY_MODEL_195ddf9149134a469cad49f14c435180",
            "max": 1099714,
            "min": 0,
            "orientation": "horizontal",
            "style": "IPY_MODEL_fd0beedef7d94e4e88e025b21a11b911",
            "value": 1099714
          }
        },
        "17862de464924abd86441852006724cc": {
          "model_module": "@jupyter-widgets/controls",
          "model_name": "HTMLModel",
          "model_module_version": "1.5.0",
          "state": {
            "_dom_classes": [],
            "_model_module": "@jupyter-widgets/controls",
            "_model_module_version": "1.5.0",
            "_model_name": "HTMLModel",
            "_view_count": null,
            "_view_module": "@jupyter-widgets/controls",
            "_view_module_version": "1.5.0",
            "_view_name": "HTMLView",
            "description": "",
            "description_tooltip": null,
            "layout": "IPY_MODEL_bd165528076846f99ec081a73e540797",
            "placeholder": "​",
            "style": "IPY_MODEL_d56492d398684d10971347277f19dd29",
            "value": " 1.05M/1.05M [00:00&lt;00:00, 3.99MB/s]"
          }
        },
        "2e7c528469874c8e99b38f84a7a5f2c2": {
          "model_module": "@jupyter-widgets/base",
          "model_name": "LayoutModel",
          "model_module_version": "1.2.0",
          "state": {
            "_model_module": "@jupyter-widgets/base",
            "_model_module_version": "1.2.0",
            "_model_name": "LayoutModel",
            "_view_count": null,
            "_view_module": "@jupyter-widgets/base",
            "_view_module_version": "1.2.0",
            "_view_name": "LayoutView",
            "align_content": null,
            "align_items": null,
            "align_self": null,
            "border": null,
            "bottom": null,
            "display": null,
            "flex": null,
            "flex_flow": null,
            "grid_area": null,
            "grid_auto_columns": null,
            "grid_auto_flow": null,
            "grid_auto_rows": null,
            "grid_column": null,
            "grid_gap": null,
            "grid_row": null,
            "grid_template_areas": null,
            "grid_template_columns": null,
            "grid_template_rows": null,
            "height": null,
            "justify_content": null,
            "justify_items": null,
            "left": null,
            "margin": null,
            "max_height": null,
            "max_width": null,
            "min_height": null,
            "min_width": null,
            "object_fit": null,
            "object_position": null,
            "order": null,
            "overflow": null,
            "overflow_x": null,
            "overflow_y": null,
            "padding": null,
            "right": null,
            "top": null,
            "visibility": null,
            "width": null
          }
        },
        "5f86c85bb83d459dbcf50aceb17276a5": {
          "model_module": "@jupyter-widgets/base",
          "model_name": "LayoutModel",
          "model_module_version": "1.2.0",
          "state": {
            "_model_module": "@jupyter-widgets/base",
            "_model_module_version": "1.2.0",
            "_model_name": "LayoutModel",
            "_view_count": null,
            "_view_module": "@jupyter-widgets/base",
            "_view_module_version": "1.2.0",
            "_view_name": "LayoutView",
            "align_content": null,
            "align_items": null,
            "align_self": null,
            "border": null,
            "bottom": null,
            "display": null,
            "flex": null,
            "flex_flow": null,
            "grid_area": null,
            "grid_auto_columns": null,
            "grid_auto_flow": null,
            "grid_auto_rows": null,
            "grid_column": null,
            "grid_gap": null,
            "grid_row": null,
            "grid_template_areas": null,
            "grid_template_columns": null,
            "grid_template_rows": null,
            "height": null,
            "justify_content": null,
            "justify_items": null,
            "left": null,
            "margin": null,
            "max_height": null,
            "max_width": null,
            "min_height": null,
            "min_width": null,
            "object_fit": null,
            "object_position": null,
            "order": null,
            "overflow": null,
            "overflow_x": null,
            "overflow_y": null,
            "padding": null,
            "right": null,
            "top": null,
            "visibility": null,
            "width": null
          }
        },
        "e62700221aba473a898ad2db30bc746f": {
          "model_module": "@jupyter-widgets/controls",
          "model_name": "DescriptionStyleModel",
          "model_module_version": "1.5.0",
          "state": {
            "_model_module": "@jupyter-widgets/controls",
            "_model_module_version": "1.5.0",
            "_model_name": "DescriptionStyleModel",
            "_view_count": null,
            "_view_module": "@jupyter-widgets/base",
            "_view_module_version": "1.2.0",
            "_view_name": "StyleView",
            "description_width": ""
          }
        },
        "195ddf9149134a469cad49f14c435180": {
          "model_module": "@jupyter-widgets/base",
          "model_name": "LayoutModel",
          "model_module_version": "1.2.0",
          "state": {
            "_model_module": "@jupyter-widgets/base",
            "_model_module_version": "1.2.0",
            "_model_name": "LayoutModel",
            "_view_count": null,
            "_view_module": "@jupyter-widgets/base",
            "_view_module_version": "1.2.0",
            "_view_name": "LayoutView",
            "align_content": null,
            "align_items": null,
            "align_self": null,
            "border": null,
            "bottom": null,
            "display": null,
            "flex": null,
            "flex_flow": null,
            "grid_area": null,
            "grid_auto_columns": null,
            "grid_auto_flow": null,
            "grid_auto_rows": null,
            "grid_column": null,
            "grid_gap": null,
            "grid_row": null,
            "grid_template_areas": null,
            "grid_template_columns": null,
            "grid_template_rows": null,
            "height": null,
            "justify_content": null,
            "justify_items": null,
            "left": null,
            "margin": null,
            "max_height": null,
            "max_width": null,
            "min_height": null,
            "min_width": null,
            "object_fit": null,
            "object_position": null,
            "order": null,
            "overflow": null,
            "overflow_x": null,
            "overflow_y": null,
            "padding": null,
            "right": null,
            "top": null,
            "visibility": null,
            "width": null
          }
        },
        "fd0beedef7d94e4e88e025b21a11b911": {
          "model_module": "@jupyter-widgets/controls",
          "model_name": "ProgressStyleModel",
          "model_module_version": "1.5.0",
          "state": {
            "_model_module": "@jupyter-widgets/controls",
            "_model_module_version": "1.5.0",
            "_model_name": "ProgressStyleModel",
            "_view_count": null,
            "_view_module": "@jupyter-widgets/base",
            "_view_module_version": "1.2.0",
            "_view_name": "StyleView",
            "bar_color": null,
            "description_width": ""
          }
        },
        "bd165528076846f99ec081a73e540797": {
          "model_module": "@jupyter-widgets/base",
          "model_name": "LayoutModel",
          "model_module_version": "1.2.0",
          "state": {
            "_model_module": "@jupyter-widgets/base",
            "_model_module_version": "1.2.0",
            "_model_name": "LayoutModel",
            "_view_count": null,
            "_view_module": "@jupyter-widgets/base",
            "_view_module_version": "1.2.0",
            "_view_name": "LayoutView",
            "align_content": null,
            "align_items": null,
            "align_self": null,
            "border": null,
            "bottom": null,
            "display": null,
            "flex": null,
            "flex_flow": null,
            "grid_area": null,
            "grid_auto_columns": null,
            "grid_auto_flow": null,
            "grid_auto_rows": null,
            "grid_column": null,
            "grid_gap": null,
            "grid_row": null,
            "grid_template_areas": null,
            "grid_template_columns": null,
            "grid_template_rows": null,
            "height": null,
            "justify_content": null,
            "justify_items": null,
            "left": null,
            "margin": null,
            "max_height": null,
            "max_width": null,
            "min_height": null,
            "min_width": null,
            "object_fit": null,
            "object_position": null,
            "order": null,
            "overflow": null,
            "overflow_x": null,
            "overflow_y": null,
            "padding": null,
            "right": null,
            "top": null,
            "visibility": null,
            "width": null
          }
        },
        "d56492d398684d10971347277f19dd29": {
          "model_module": "@jupyter-widgets/controls",
          "model_name": "DescriptionStyleModel",
          "model_module_version": "1.5.0",
          "state": {
            "_model_module": "@jupyter-widgets/controls",
            "_model_module_version": "1.5.0",
            "_model_name": "DescriptionStyleModel",
            "_view_count": null,
            "_view_module": "@jupyter-widgets/base",
            "_view_module_version": "1.2.0",
            "_view_name": "StyleView",
            "description_width": ""
          }
        },
        "38a503c93c2d49eaa66d9e74378d58e3": {
          "model_module": "@jupyter-widgets/controls",
          "model_name": "HBoxModel",
          "model_module_version": "1.5.0",
          "state": {
            "_dom_classes": [],
            "_model_module": "@jupyter-widgets/controls",
            "_model_module_version": "1.5.0",
            "_model_name": "HBoxModel",
            "_view_count": null,
            "_view_module": "@jupyter-widgets/controls",
            "_view_module_version": "1.5.0",
            "_view_name": "HBoxView",
            "box_style": "",
            "children": [
              "IPY_MODEL_a98fd26ab65b4547b5a984234c0de6e6",
              "IPY_MODEL_a7659d60c75643fe91298cd547c37fab",
              "IPY_MODEL_d89a75107d3a436dbff9349ddc4e538e"
            ],
            "layout": "IPY_MODEL_1b972c3ac4334b739c69966e974001c3"
          }
        },
        "a98fd26ab65b4547b5a984234c0de6e6": {
          "model_module": "@jupyter-widgets/controls",
          "model_name": "HTMLModel",
          "model_module_version": "1.5.0",
          "state": {
            "_dom_classes": [],
            "_model_module": "@jupyter-widgets/controls",
            "_model_module_version": "1.5.0",
            "_model_name": "HTMLModel",
            "_view_count": null,
            "_view_module": "@jupyter-widgets/controls",
            "_view_module_version": "1.5.0",
            "_view_name": "HTMLView",
            "description": "",
            "description_tooltip": null,
            "layout": "IPY_MODEL_133f8b77545a47f18b366a3879ed0d69",
            "placeholder": "​",
            "style": "IPY_MODEL_99d89f8666294699a37a631d21c7df09",
            "value": "Downloading: 100%"
          }
        },
        "a7659d60c75643fe91298cd547c37fab": {
          "model_module": "@jupyter-widgets/controls",
          "model_name": "FloatProgressModel",
          "model_module_version": "1.5.0",
          "state": {
            "_dom_classes": [],
            "_model_module": "@jupyter-widgets/controls",
            "_model_module_version": "1.5.0",
            "_model_name": "FloatProgressModel",
            "_view_count": null,
            "_view_module": "@jupyter-widgets/controls",
            "_view_module_version": "1.5.0",
            "_view_name": "ProgressView",
            "bar_style": "success",
            "description": "",
            "description_tooltip": null,
            "layout": "IPY_MODEL_c0dce52ff3e84172b55df567ab053675",
            "max": 112,
            "min": 0,
            "orientation": "horizontal",
            "style": "IPY_MODEL_72ca8ca4111a4db9a4558067c3ec40ac",
            "value": 112
          }
        },
        "d89a75107d3a436dbff9349ddc4e538e": {
          "model_module": "@jupyter-widgets/controls",
          "model_name": "HTMLModel",
          "model_module_version": "1.5.0",
          "state": {
            "_dom_classes": [],
            "_model_module": "@jupyter-widgets/controls",
            "_model_module_version": "1.5.0",
            "_model_name": "HTMLModel",
            "_view_count": null,
            "_view_module": "@jupyter-widgets/controls",
            "_view_module_version": "1.5.0",
            "_view_name": "HTMLView",
            "description": "",
            "description_tooltip": null,
            "layout": "IPY_MODEL_0189bb1891ed419896799ef6fe5ac58e",
            "placeholder": "​",
            "style": "IPY_MODEL_a455404b673d41f7bf2efd976573bd89",
            "value": " 112/112 [00:00&lt;00:00, 2.87kB/s]"
          }
        },
        "1b972c3ac4334b739c69966e974001c3": {
          "model_module": "@jupyter-widgets/base",
          "model_name": "LayoutModel",
          "model_module_version": "1.2.0",
          "state": {
            "_model_module": "@jupyter-widgets/base",
            "_model_module_version": "1.2.0",
            "_model_name": "LayoutModel",
            "_view_count": null,
            "_view_module": "@jupyter-widgets/base",
            "_view_module_version": "1.2.0",
            "_view_name": "LayoutView",
            "align_content": null,
            "align_items": null,
            "align_self": null,
            "border": null,
            "bottom": null,
            "display": null,
            "flex": null,
            "flex_flow": null,
            "grid_area": null,
            "grid_auto_columns": null,
            "grid_auto_flow": null,
            "grid_auto_rows": null,
            "grid_column": null,
            "grid_gap": null,
            "grid_row": null,
            "grid_template_areas": null,
            "grid_template_columns": null,
            "grid_template_rows": null,
            "height": null,
            "justify_content": null,
            "justify_items": null,
            "left": null,
            "margin": null,
            "max_height": null,
            "max_width": null,
            "min_height": null,
            "min_width": null,
            "object_fit": null,
            "object_position": null,
            "order": null,
            "overflow": null,
            "overflow_x": null,
            "overflow_y": null,
            "padding": null,
            "right": null,
            "top": null,
            "visibility": null,
            "width": null
          }
        },
        "133f8b77545a47f18b366a3879ed0d69": {
          "model_module": "@jupyter-widgets/base",
          "model_name": "LayoutModel",
          "model_module_version": "1.2.0",
          "state": {
            "_model_module": "@jupyter-widgets/base",
            "_model_module_version": "1.2.0",
            "_model_name": "LayoutModel",
            "_view_count": null,
            "_view_module": "@jupyter-widgets/base",
            "_view_module_version": "1.2.0",
            "_view_name": "LayoutView",
            "align_content": null,
            "align_items": null,
            "align_self": null,
            "border": null,
            "bottom": null,
            "display": null,
            "flex": null,
            "flex_flow": null,
            "grid_area": null,
            "grid_auto_columns": null,
            "grid_auto_flow": null,
            "grid_auto_rows": null,
            "grid_column": null,
            "grid_gap": null,
            "grid_row": null,
            "grid_template_areas": null,
            "grid_template_columns": null,
            "grid_template_rows": null,
            "height": null,
            "justify_content": null,
            "justify_items": null,
            "left": null,
            "margin": null,
            "max_height": null,
            "max_width": null,
            "min_height": null,
            "min_width": null,
            "object_fit": null,
            "object_position": null,
            "order": null,
            "overflow": null,
            "overflow_x": null,
            "overflow_y": null,
            "padding": null,
            "right": null,
            "top": null,
            "visibility": null,
            "width": null
          }
        },
        "99d89f8666294699a37a631d21c7df09": {
          "model_module": "@jupyter-widgets/controls",
          "model_name": "DescriptionStyleModel",
          "model_module_version": "1.5.0",
          "state": {
            "_model_module": "@jupyter-widgets/controls",
            "_model_module_version": "1.5.0",
            "_model_name": "DescriptionStyleModel",
            "_view_count": null,
            "_view_module": "@jupyter-widgets/base",
            "_view_module_version": "1.2.0",
            "_view_name": "StyleView",
            "description_width": ""
          }
        },
        "c0dce52ff3e84172b55df567ab053675": {
          "model_module": "@jupyter-widgets/base",
          "model_name": "LayoutModel",
          "model_module_version": "1.2.0",
          "state": {
            "_model_module": "@jupyter-widgets/base",
            "_model_module_version": "1.2.0",
            "_model_name": "LayoutModel",
            "_view_count": null,
            "_view_module": "@jupyter-widgets/base",
            "_view_module_version": "1.2.0",
            "_view_name": "LayoutView",
            "align_content": null,
            "align_items": null,
            "align_self": null,
            "border": null,
            "bottom": null,
            "display": null,
            "flex": null,
            "flex_flow": null,
            "grid_area": null,
            "grid_auto_columns": null,
            "grid_auto_flow": null,
            "grid_auto_rows": null,
            "grid_column": null,
            "grid_gap": null,
            "grid_row": null,
            "grid_template_areas": null,
            "grid_template_columns": null,
            "grid_template_rows": null,
            "height": null,
            "justify_content": null,
            "justify_items": null,
            "left": null,
            "margin": null,
            "max_height": null,
            "max_width": null,
            "min_height": null,
            "min_width": null,
            "object_fit": null,
            "object_position": null,
            "order": null,
            "overflow": null,
            "overflow_x": null,
            "overflow_y": null,
            "padding": null,
            "right": null,
            "top": null,
            "visibility": null,
            "width": null
          }
        },
        "72ca8ca4111a4db9a4558067c3ec40ac": {
          "model_module": "@jupyter-widgets/controls",
          "model_name": "ProgressStyleModel",
          "model_module_version": "1.5.0",
          "state": {
            "_model_module": "@jupyter-widgets/controls",
            "_model_module_version": "1.5.0",
            "_model_name": "ProgressStyleModel",
            "_view_count": null,
            "_view_module": "@jupyter-widgets/base",
            "_view_module_version": "1.2.0",
            "_view_name": "StyleView",
            "bar_color": null,
            "description_width": ""
          }
        },
        "0189bb1891ed419896799ef6fe5ac58e": {
          "model_module": "@jupyter-widgets/base",
          "model_name": "LayoutModel",
          "model_module_version": "1.2.0",
          "state": {
            "_model_module": "@jupyter-widgets/base",
            "_model_module_version": "1.2.0",
            "_model_name": "LayoutModel",
            "_view_count": null,
            "_view_module": "@jupyter-widgets/base",
            "_view_module_version": "1.2.0",
            "_view_name": "LayoutView",
            "align_content": null,
            "align_items": null,
            "align_self": null,
            "border": null,
            "bottom": null,
            "display": null,
            "flex": null,
            "flex_flow": null,
            "grid_area": null,
            "grid_auto_columns": null,
            "grid_auto_flow": null,
            "grid_auto_rows": null,
            "grid_column": null,
            "grid_gap": null,
            "grid_row": null,
            "grid_template_areas": null,
            "grid_template_columns": null,
            "grid_template_rows": null,
            "height": null,
            "justify_content": null,
            "justify_items": null,
            "left": null,
            "margin": null,
            "max_height": null,
            "max_width": null,
            "min_height": null,
            "min_width": null,
            "object_fit": null,
            "object_position": null,
            "order": null,
            "overflow": null,
            "overflow_x": null,
            "overflow_y": null,
            "padding": null,
            "right": null,
            "top": null,
            "visibility": null,
            "width": null
          }
        },
        "a455404b673d41f7bf2efd976573bd89": {
          "model_module": "@jupyter-widgets/controls",
          "model_name": "DescriptionStyleModel",
          "model_module_version": "1.5.0",
          "state": {
            "_model_module": "@jupyter-widgets/controls",
            "_model_module_version": "1.5.0",
            "_model_name": "DescriptionStyleModel",
            "_view_count": null,
            "_view_module": "@jupyter-widgets/base",
            "_view_module_version": "1.2.0",
            "_view_name": "StyleView",
            "description_width": ""
          }
        },
        "b8d1a8eb6db845eca67fc7799df52576": {
          "model_module": "@jupyter-widgets/controls",
          "model_name": "HBoxModel",
          "model_module_version": "1.5.0",
          "state": {
            "_dom_classes": [],
            "_model_module": "@jupyter-widgets/controls",
            "_model_module_version": "1.5.0",
            "_model_name": "HBoxModel",
            "_view_count": null,
            "_view_module": "@jupyter-widgets/controls",
            "_view_module_version": "1.5.0",
            "_view_name": "HBoxView",
            "box_style": "",
            "children": [
              "IPY_MODEL_317132aa61a04b49b51ee3c6ca7a07f5",
              "IPY_MODEL_351c5c7bf12f4117aab84489b0d8e02b",
              "IPY_MODEL_fa10a5e0a09840658f41c36a9114cae8"
            ],
            "layout": "IPY_MODEL_6c0f192aebcb45c1a78ef51767330ed3"
          }
        },
        "317132aa61a04b49b51ee3c6ca7a07f5": {
          "model_module": "@jupyter-widgets/controls",
          "model_name": "HTMLModel",
          "model_module_version": "1.5.0",
          "state": {
            "_dom_classes": [],
            "_model_module": "@jupyter-widgets/controls",
            "_model_module_version": "1.5.0",
            "_model_name": "HTMLModel",
            "_view_count": null,
            "_view_module": "@jupyter-widgets/controls",
            "_view_module_version": "1.5.0",
            "_view_name": "HTMLView",
            "description": "",
            "description_tooltip": null,
            "layout": "IPY_MODEL_705b0edeefcb42e8acc671fb99cd0184",
            "placeholder": "​",
            "style": "IPY_MODEL_3ce897b49ce44dd7a3c95c30e856bc2a",
            "value": "Downloading: 100%"
          }
        },
        "351c5c7bf12f4117aab84489b0d8e02b": {
          "model_module": "@jupyter-widgets/controls",
          "model_name": "FloatProgressModel",
          "model_module_version": "1.5.0",
          "state": {
            "_dom_classes": [],
            "_model_module": "@jupyter-widgets/controls",
            "_model_module_version": "1.5.0",
            "_model_name": "FloatProgressModel",
            "_view_count": null,
            "_view_module": "@jupyter-widgets/controls",
            "_view_module_version": "1.5.0",
            "_view_name": "ProgressView",
            "bar_style": "success",
            "description": "",
            "description_tooltip": null,
            "layout": "IPY_MODEL_da89502659e94fcfb933c98763f99e17",
            "max": 757,
            "min": 0,
            "orientation": "horizontal",
            "style": "IPY_MODEL_102b5f0bdbea414f82acb3ac48a3faa8",
            "value": 757
          }
        },
        "fa10a5e0a09840658f41c36a9114cae8": {
          "model_module": "@jupyter-widgets/controls",
          "model_name": "HTMLModel",
          "model_module_version": "1.5.0",
          "state": {
            "_dom_classes": [],
            "_model_module": "@jupyter-widgets/controls",
            "_model_module_version": "1.5.0",
            "_model_name": "HTMLModel",
            "_view_count": null,
            "_view_module": "@jupyter-widgets/controls",
            "_view_module_version": "1.5.0",
            "_view_name": "HTMLView",
            "description": "",
            "description_tooltip": null,
            "layout": "IPY_MODEL_582b7d312a4d4bb593d8efb48d6558be",
            "placeholder": "​",
            "style": "IPY_MODEL_3bbbc8b3eb7e43588789755c81544d12",
            "value": " 757/757 [00:00&lt;00:00, 9.74kB/s]"
          }
        },
        "6c0f192aebcb45c1a78ef51767330ed3": {
          "model_module": "@jupyter-widgets/base",
          "model_name": "LayoutModel",
          "model_module_version": "1.2.0",
          "state": {
            "_model_module": "@jupyter-widgets/base",
            "_model_module_version": "1.2.0",
            "_model_name": "LayoutModel",
            "_view_count": null,
            "_view_module": "@jupyter-widgets/base",
            "_view_module_version": "1.2.0",
            "_view_name": "LayoutView",
            "align_content": null,
            "align_items": null,
            "align_self": null,
            "border": null,
            "bottom": null,
            "display": null,
            "flex": null,
            "flex_flow": null,
            "grid_area": null,
            "grid_auto_columns": null,
            "grid_auto_flow": null,
            "grid_auto_rows": null,
            "grid_column": null,
            "grid_gap": null,
            "grid_row": null,
            "grid_template_areas": null,
            "grid_template_columns": null,
            "grid_template_rows": null,
            "height": null,
            "justify_content": null,
            "justify_items": null,
            "left": null,
            "margin": null,
            "max_height": null,
            "max_width": null,
            "min_height": null,
            "min_width": null,
            "object_fit": null,
            "object_position": null,
            "order": null,
            "overflow": null,
            "overflow_x": null,
            "overflow_y": null,
            "padding": null,
            "right": null,
            "top": null,
            "visibility": null,
            "width": null
          }
        },
        "705b0edeefcb42e8acc671fb99cd0184": {
          "model_module": "@jupyter-widgets/base",
          "model_name": "LayoutModel",
          "model_module_version": "1.2.0",
          "state": {
            "_model_module": "@jupyter-widgets/base",
            "_model_module_version": "1.2.0",
            "_model_name": "LayoutModel",
            "_view_count": null,
            "_view_module": "@jupyter-widgets/base",
            "_view_module_version": "1.2.0",
            "_view_name": "LayoutView",
            "align_content": null,
            "align_items": null,
            "align_self": null,
            "border": null,
            "bottom": null,
            "display": null,
            "flex": null,
            "flex_flow": null,
            "grid_area": null,
            "grid_auto_columns": null,
            "grid_auto_flow": null,
            "grid_auto_rows": null,
            "grid_column": null,
            "grid_gap": null,
            "grid_row": null,
            "grid_template_areas": null,
            "grid_template_columns": null,
            "grid_template_rows": null,
            "height": null,
            "justify_content": null,
            "justify_items": null,
            "left": null,
            "margin": null,
            "max_height": null,
            "max_width": null,
            "min_height": null,
            "min_width": null,
            "object_fit": null,
            "object_position": null,
            "order": null,
            "overflow": null,
            "overflow_x": null,
            "overflow_y": null,
            "padding": null,
            "right": null,
            "top": null,
            "visibility": null,
            "width": null
          }
        },
        "3ce897b49ce44dd7a3c95c30e856bc2a": {
          "model_module": "@jupyter-widgets/controls",
          "model_name": "DescriptionStyleModel",
          "model_module_version": "1.5.0",
          "state": {
            "_model_module": "@jupyter-widgets/controls",
            "_model_module_version": "1.5.0",
            "_model_name": "DescriptionStyleModel",
            "_view_count": null,
            "_view_module": "@jupyter-widgets/base",
            "_view_module_version": "1.2.0",
            "_view_name": "StyleView",
            "description_width": ""
          }
        },
        "da89502659e94fcfb933c98763f99e17": {
          "model_module": "@jupyter-widgets/base",
          "model_name": "LayoutModel",
          "model_module_version": "1.2.0",
          "state": {
            "_model_module": "@jupyter-widgets/base",
            "_model_module_version": "1.2.0",
            "_model_name": "LayoutModel",
            "_view_count": null,
            "_view_module": "@jupyter-widgets/base",
            "_view_module_version": "1.2.0",
            "_view_name": "LayoutView",
            "align_content": null,
            "align_items": null,
            "align_self": null,
            "border": null,
            "bottom": null,
            "display": null,
            "flex": null,
            "flex_flow": null,
            "grid_area": null,
            "grid_auto_columns": null,
            "grid_auto_flow": null,
            "grid_auto_rows": null,
            "grid_column": null,
            "grid_gap": null,
            "grid_row": null,
            "grid_template_areas": null,
            "grid_template_columns": null,
            "grid_template_rows": null,
            "height": null,
            "justify_content": null,
            "justify_items": null,
            "left": null,
            "margin": null,
            "max_height": null,
            "max_width": null,
            "min_height": null,
            "min_width": null,
            "object_fit": null,
            "object_position": null,
            "order": null,
            "overflow": null,
            "overflow_x": null,
            "overflow_y": null,
            "padding": null,
            "right": null,
            "top": null,
            "visibility": null,
            "width": null
          }
        },
        "102b5f0bdbea414f82acb3ac48a3faa8": {
          "model_module": "@jupyter-widgets/controls",
          "model_name": "ProgressStyleModel",
          "model_module_version": "1.5.0",
          "state": {
            "_model_module": "@jupyter-widgets/controls",
            "_model_module_version": "1.5.0",
            "_model_name": "ProgressStyleModel",
            "_view_count": null,
            "_view_module": "@jupyter-widgets/base",
            "_view_module_version": "1.2.0",
            "_view_name": "StyleView",
            "bar_color": null,
            "description_width": ""
          }
        },
        "582b7d312a4d4bb593d8efb48d6558be": {
          "model_module": "@jupyter-widgets/base",
          "model_name": "LayoutModel",
          "model_module_version": "1.2.0",
          "state": {
            "_model_module": "@jupyter-widgets/base",
            "_model_module_version": "1.2.0",
            "_model_name": "LayoutModel",
            "_view_count": null,
            "_view_module": "@jupyter-widgets/base",
            "_view_module_version": "1.2.0",
            "_view_name": "LayoutView",
            "align_content": null,
            "align_items": null,
            "align_self": null,
            "border": null,
            "bottom": null,
            "display": null,
            "flex": null,
            "flex_flow": null,
            "grid_area": null,
            "grid_auto_columns": null,
            "grid_auto_flow": null,
            "grid_auto_rows": null,
            "grid_column": null,
            "grid_gap": null,
            "grid_row": null,
            "grid_template_areas": null,
            "grid_template_columns": null,
            "grid_template_rows": null,
            "height": null,
            "justify_content": null,
            "justify_items": null,
            "left": null,
            "margin": null,
            "max_height": null,
            "max_width": null,
            "min_height": null,
            "min_width": null,
            "object_fit": null,
            "object_position": null,
            "order": null,
            "overflow": null,
            "overflow_x": null,
            "overflow_y": null,
            "padding": null,
            "right": null,
            "top": null,
            "visibility": null,
            "width": null
          }
        },
        "3bbbc8b3eb7e43588789755c81544d12": {
          "model_module": "@jupyter-widgets/controls",
          "model_name": "DescriptionStyleModel",
          "model_module_version": "1.5.0",
          "state": {
            "_model_module": "@jupyter-widgets/controls",
            "_model_module_version": "1.5.0",
            "_model_name": "DescriptionStyleModel",
            "_view_count": null,
            "_view_module": "@jupyter-widgets/base",
            "_view_module_version": "1.2.0",
            "_view_name": "StyleView",
            "description_width": ""
          }
        },
        "4bbb3f8ed00a4cd8b6926af3c035c807": {
          "model_module": "@jupyter-widgets/controls",
          "model_name": "HBoxModel",
          "model_module_version": "1.5.0",
          "state": {
            "_dom_classes": [],
            "_model_module": "@jupyter-widgets/controls",
            "_model_module_version": "1.5.0",
            "_model_name": "HBoxModel",
            "_view_count": null,
            "_view_module": "@jupyter-widgets/controls",
            "_view_module_version": "1.5.0",
            "_view_name": "HBoxView",
            "box_style": "",
            "children": [
              "IPY_MODEL_130e179916d1446293f0b9c0225b1477",
              "IPY_MODEL_b100088fb6c4460e8ca0282db54cc6b3",
              "IPY_MODEL_8f88ec4a0f12487aa7386d2545961ce2"
            ],
            "layout": "IPY_MODEL_b9f99d870796423cb30fe93ee6f93794"
          }
        },
        "130e179916d1446293f0b9c0225b1477": {
          "model_module": "@jupyter-widgets/controls",
          "model_name": "HTMLModel",
          "model_module_version": "1.5.0",
          "state": {
            "_dom_classes": [],
            "_model_module": "@jupyter-widgets/controls",
            "_model_module_version": "1.5.0",
            "_model_name": "HTMLModel",
            "_view_count": null,
            "_view_module": "@jupyter-widgets/controls",
            "_view_module_version": "1.5.0",
            "_view_name": "HTMLView",
            "description": "",
            "description_tooltip": null,
            "layout": "IPY_MODEL_29c573974cd34152a33611fa3420e141",
            "placeholder": "​",
            "style": "IPY_MODEL_54ecbcfeed2d404fbe0927127cc6dc12",
            "value": "Downloading: 100%"
          }
        },
        "b100088fb6c4460e8ca0282db54cc6b3": {
          "model_module": "@jupyter-widgets/controls",
          "model_name": "FloatProgressModel",
          "model_module_version": "1.5.0",
          "state": {
            "_dom_classes": [],
            "_model_module": "@jupyter-widgets/controls",
            "_model_module_version": "1.5.0",
            "_model_name": "FloatProgressModel",
            "_view_count": null,
            "_view_module": "@jupyter-widgets/controls",
            "_view_module_version": "1.5.0",
            "_view_name": "ProgressView",
            "bar_style": "success",
            "description": "",
            "description_tooltip": null,
            "layout": "IPY_MODEL_57cf670446964ea5937ef71b7c739647",
            "max": 651632640,
            "min": 0,
            "orientation": "horizontal",
            "style": "IPY_MODEL_b1c08ddcf32240b792d52936e4bf1bc4",
            "value": 651632640
          }
        },
        "8f88ec4a0f12487aa7386d2545961ce2": {
          "model_module": "@jupyter-widgets/controls",
          "model_name": "HTMLModel",
          "model_module_version": "1.5.0",
          "state": {
            "_dom_classes": [],
            "_model_module": "@jupyter-widgets/controls",
            "_model_module_version": "1.5.0",
            "_model_name": "HTMLModel",
            "_view_count": null,
            "_view_module": "@jupyter-widgets/controls",
            "_view_module_version": "1.5.0",
            "_view_name": "HTMLView",
            "description": "",
            "description_tooltip": null,
            "layout": "IPY_MODEL_1339406181b949cdbfa6568710506227",
            "placeholder": "​",
            "style": "IPY_MODEL_d8202248ac08428e96dc1fc4479b9916",
            "value": " 621M/621M [00:34&lt;00:00, 26.2MB/s]"
          }
        },
        "b9f99d870796423cb30fe93ee6f93794": {
          "model_module": "@jupyter-widgets/base",
          "model_name": "LayoutModel",
          "model_module_version": "1.2.0",
          "state": {
            "_model_module": "@jupyter-widgets/base",
            "_model_module_version": "1.2.0",
            "_model_name": "LayoutModel",
            "_view_count": null,
            "_view_module": "@jupyter-widgets/base",
            "_view_module_version": "1.2.0",
            "_view_name": "LayoutView",
            "align_content": null,
            "align_items": null,
            "align_self": null,
            "border": null,
            "bottom": null,
            "display": null,
            "flex": null,
            "flex_flow": null,
            "grid_area": null,
            "grid_auto_columns": null,
            "grid_auto_flow": null,
            "grid_auto_rows": null,
            "grid_column": null,
            "grid_gap": null,
            "grid_row": null,
            "grid_template_areas": null,
            "grid_template_columns": null,
            "grid_template_rows": null,
            "height": null,
            "justify_content": null,
            "justify_items": null,
            "left": null,
            "margin": null,
            "max_height": null,
            "max_width": null,
            "min_height": null,
            "min_width": null,
            "object_fit": null,
            "object_position": null,
            "order": null,
            "overflow": null,
            "overflow_x": null,
            "overflow_y": null,
            "padding": null,
            "right": null,
            "top": null,
            "visibility": null,
            "width": null
          }
        },
        "29c573974cd34152a33611fa3420e141": {
          "model_module": "@jupyter-widgets/base",
          "model_name": "LayoutModel",
          "model_module_version": "1.2.0",
          "state": {
            "_model_module": "@jupyter-widgets/base",
            "_model_module_version": "1.2.0",
            "_model_name": "LayoutModel",
            "_view_count": null,
            "_view_module": "@jupyter-widgets/base",
            "_view_module_version": "1.2.0",
            "_view_name": "LayoutView",
            "align_content": null,
            "align_items": null,
            "align_self": null,
            "border": null,
            "bottom": null,
            "display": null,
            "flex": null,
            "flex_flow": null,
            "grid_area": null,
            "grid_auto_columns": null,
            "grid_auto_flow": null,
            "grid_auto_rows": null,
            "grid_column": null,
            "grid_gap": null,
            "grid_row": null,
            "grid_template_areas": null,
            "grid_template_columns": null,
            "grid_template_rows": null,
            "height": null,
            "justify_content": null,
            "justify_items": null,
            "left": null,
            "margin": null,
            "max_height": null,
            "max_width": null,
            "min_height": null,
            "min_width": null,
            "object_fit": null,
            "object_position": null,
            "order": null,
            "overflow": null,
            "overflow_x": null,
            "overflow_y": null,
            "padding": null,
            "right": null,
            "top": null,
            "visibility": null,
            "width": null
          }
        },
        "54ecbcfeed2d404fbe0927127cc6dc12": {
          "model_module": "@jupyter-widgets/controls",
          "model_name": "DescriptionStyleModel",
          "model_module_version": "1.5.0",
          "state": {
            "_model_module": "@jupyter-widgets/controls",
            "_model_module_version": "1.5.0",
            "_model_name": "DescriptionStyleModel",
            "_view_count": null,
            "_view_module": "@jupyter-widgets/base",
            "_view_module_version": "1.2.0",
            "_view_name": "StyleView",
            "description_width": ""
          }
        },
        "57cf670446964ea5937ef71b7c739647": {
          "model_module": "@jupyter-widgets/base",
          "model_name": "LayoutModel",
          "model_module_version": "1.2.0",
          "state": {
            "_model_module": "@jupyter-widgets/base",
            "_model_module_version": "1.2.0",
            "_model_name": "LayoutModel",
            "_view_count": null,
            "_view_module": "@jupyter-widgets/base",
            "_view_module_version": "1.2.0",
            "_view_name": "LayoutView",
            "align_content": null,
            "align_items": null,
            "align_self": null,
            "border": null,
            "bottom": null,
            "display": null,
            "flex": null,
            "flex_flow": null,
            "grid_area": null,
            "grid_auto_columns": null,
            "grid_auto_flow": null,
            "grid_auto_rows": null,
            "grid_column": null,
            "grid_gap": null,
            "grid_row": null,
            "grid_template_areas": null,
            "grid_template_columns": null,
            "grid_template_rows": null,
            "height": null,
            "justify_content": null,
            "justify_items": null,
            "left": null,
            "margin": null,
            "max_height": null,
            "max_width": null,
            "min_height": null,
            "min_width": null,
            "object_fit": null,
            "object_position": null,
            "order": null,
            "overflow": null,
            "overflow_x": null,
            "overflow_y": null,
            "padding": null,
            "right": null,
            "top": null,
            "visibility": null,
            "width": null
          }
        },
        "b1c08ddcf32240b792d52936e4bf1bc4": {
          "model_module": "@jupyter-widgets/controls",
          "model_name": "ProgressStyleModel",
          "model_module_version": "1.5.0",
          "state": {
            "_model_module": "@jupyter-widgets/controls",
            "_model_module_version": "1.5.0",
            "_model_name": "ProgressStyleModel",
            "_view_count": null,
            "_view_module": "@jupyter-widgets/base",
            "_view_module_version": "1.2.0",
            "_view_name": "StyleView",
            "bar_color": null,
            "description_width": ""
          }
        },
        "1339406181b949cdbfa6568710506227": {
          "model_module": "@jupyter-widgets/base",
          "model_name": "LayoutModel",
          "model_module_version": "1.2.0",
          "state": {
            "_model_module": "@jupyter-widgets/base",
            "_model_module_version": "1.2.0",
            "_model_name": "LayoutModel",
            "_view_count": null,
            "_view_module": "@jupyter-widgets/base",
            "_view_module_version": "1.2.0",
            "_view_name": "LayoutView",
            "align_content": null,
            "align_items": null,
            "align_self": null,
            "border": null,
            "bottom": null,
            "display": null,
            "flex": null,
            "flex_flow": null,
            "grid_area": null,
            "grid_auto_columns": null,
            "grid_auto_flow": null,
            "grid_auto_rows": null,
            "grid_column": null,
            "grid_gap": null,
            "grid_row": null,
            "grid_template_areas": null,
            "grid_template_columns": null,
            "grid_template_rows": null,
            "height": null,
            "justify_content": null,
            "justify_items": null,
            "left": null,
            "margin": null,
            "max_height": null,
            "max_width": null,
            "min_height": null,
            "min_width": null,
            "object_fit": null,
            "object_position": null,
            "order": null,
            "overflow": null,
            "overflow_x": null,
            "overflow_y": null,
            "padding": null,
            "right": null,
            "top": null,
            "visibility": null,
            "width": null
          }
        },
        "d8202248ac08428e96dc1fc4479b9916": {
          "model_module": "@jupyter-widgets/controls",
          "model_name": "DescriptionStyleModel",
          "model_module_version": "1.5.0",
          "state": {
            "_model_module": "@jupyter-widgets/controls",
            "_model_module_version": "1.5.0",
            "_model_name": "DescriptionStyleModel",
            "_view_count": null,
            "_view_module": "@jupyter-widgets/base",
            "_view_module_version": "1.2.0",
            "_view_name": "StyleView",
            "description_width": ""
          }
        }
      }
    }
  },
  "nbformat_minor": 0,
  "nbformat": 4,
  "cells": [
    {
      "cell_type": "code",
      "source": [
        "!pip install focal_loss transformers"
      ],
      "metadata": {
        "execution": {
          "iopub.status.busy": "2022-03-27T16:35:33.941234Z",
          "iopub.execute_input": "2022-03-27T16:35:33.941605Z",
          "iopub.status.idle": "2022-03-27T16:36:02.814414Z",
          "shell.execute_reply.started": "2022-03-27T16:35:33.941512Z",
          "shell.execute_reply": "2022-03-27T16:36:02.813547Z"
        },
        "trusted": true,
        "colab": {
          "base_uri": "https://localhost:8080/"
        },
        "id": "l2hHkQ30PJ1L",
        "outputId": "bdb7d3b8-19a2-4d32-9396-c198e5683eae"
      },
      "execution_count": null,
      "outputs": [
        {
          "output_type": "stream",
          "name": "stdout",
          "text": [
            "Collecting focal_loss\n",
            "  Downloading focal_loss-0.0.7-py3-none-any.whl (19 kB)\n",
            "Collecting transformers\n",
            "  Downloading transformers-4.17.0-py3-none-any.whl (3.8 MB)\n",
            "\u001b[K     |████████████████████████████████| 3.8 MB 5.4 MB/s \n",
            "\u001b[?25hRequirement already satisfied: tensorflow>=2.2 in /usr/local/lib/python3.7/dist-packages (from focal_loss) (2.8.0)\n",
            "Requirement already satisfied: tensorboard<2.9,>=2.8 in /usr/local/lib/python3.7/dist-packages (from tensorflow>=2.2->focal_loss) (2.8.0)\n",
            "Requirement already satisfied: typing-extensions>=3.6.6 in /usr/local/lib/python3.7/dist-packages (from tensorflow>=2.2->focal_loss) (3.10.0.2)\n",
            "Requirement already satisfied: gast>=0.2.1 in /usr/local/lib/python3.7/dist-packages (from tensorflow>=2.2->focal_loss) (0.5.3)\n",
            "Collecting tf-estimator-nightly==2.8.0.dev2021122109\n",
            "  Downloading tf_estimator_nightly-2.8.0.dev2021122109-py2.py3-none-any.whl (462 kB)\n",
            "\u001b[K     |████████████████████████████████| 462 kB 56.4 MB/s \n",
            "\u001b[?25hRequirement already satisfied: absl-py>=0.4.0 in /usr/local/lib/python3.7/dist-packages (from tensorflow>=2.2->focal_loss) (1.0.0)\n",
            "Requirement already satisfied: astunparse>=1.6.0 in /usr/local/lib/python3.7/dist-packages (from tensorflow>=2.2->focal_loss) (1.6.3)\n",
            "Requirement already satisfied: keras-preprocessing>=1.1.1 in /usr/local/lib/python3.7/dist-packages (from tensorflow>=2.2->focal_loss) (1.1.2)\n",
            "Requirement already satisfied: numpy>=1.20 in /usr/local/lib/python3.7/dist-packages (from tensorflow>=2.2->focal_loss) (1.21.5)\n",
            "Requirement already satisfied: keras<2.9,>=2.8.0rc0 in /usr/local/lib/python3.7/dist-packages (from tensorflow>=2.2->focal_loss) (2.8.0)\n",
            "Requirement already satisfied: six>=1.12.0 in /usr/local/lib/python3.7/dist-packages (from tensorflow>=2.2->focal_loss) (1.15.0)\n",
            "Requirement already satisfied: opt-einsum>=2.3.2 in /usr/local/lib/python3.7/dist-packages (from tensorflow>=2.2->focal_loss) (3.3.0)\n",
            "Requirement already satisfied: termcolor>=1.1.0 in /usr/local/lib/python3.7/dist-packages (from tensorflow>=2.2->focal_loss) (1.1.0)\n",
            "Requirement already satisfied: wrapt>=1.11.0 in /usr/local/lib/python3.7/dist-packages (from tensorflow>=2.2->focal_loss) (1.14.0)\n",
            "Requirement already satisfied: tensorflow-io-gcs-filesystem>=0.23.1 in /usr/local/lib/python3.7/dist-packages (from tensorflow>=2.2->focal_loss) (0.24.0)\n",
            "Requirement already satisfied: google-pasta>=0.1.1 in /usr/local/lib/python3.7/dist-packages (from tensorflow>=2.2->focal_loss) (0.2.0)\n",
            "Requirement already satisfied: libclang>=9.0.1 in /usr/local/lib/python3.7/dist-packages (from tensorflow>=2.2->focal_loss) (13.0.0)\n",
            "Requirement already satisfied: h5py>=2.9.0 in /usr/local/lib/python3.7/dist-packages (from tensorflow>=2.2->focal_loss) (3.1.0)\n",
            "Requirement already satisfied: flatbuffers>=1.12 in /usr/local/lib/python3.7/dist-packages (from tensorflow>=2.2->focal_loss) (2.0)\n",
            "Requirement already satisfied: grpcio<2.0,>=1.24.3 in /usr/local/lib/python3.7/dist-packages (from tensorflow>=2.2->focal_loss) (1.44.0)\n",
            "Requirement already satisfied: protobuf>=3.9.2 in /usr/local/lib/python3.7/dist-packages (from tensorflow>=2.2->focal_loss) (3.17.3)\n",
            "Requirement already satisfied: setuptools in /usr/local/lib/python3.7/dist-packages (from tensorflow>=2.2->focal_loss) (57.4.0)\n",
            "Requirement already satisfied: wheel<1.0,>=0.23.0 in /usr/local/lib/python3.7/dist-packages (from astunparse>=1.6.0->tensorflow>=2.2->focal_loss) (0.37.1)\n",
            "Requirement already satisfied: cached-property in /usr/local/lib/python3.7/dist-packages (from h5py>=2.9.0->tensorflow>=2.2->focal_loss) (1.5.2)\n",
            "Requirement already satisfied: werkzeug>=0.11.15 in /usr/local/lib/python3.7/dist-packages (from tensorboard<2.9,>=2.8->tensorflow>=2.2->focal_loss) (1.0.1)\n",
            "Requirement already satisfied: markdown>=2.6.8 in /usr/local/lib/python3.7/dist-packages (from tensorboard<2.9,>=2.8->tensorflow>=2.2->focal_loss) (3.3.6)\n",
            "Requirement already satisfied: tensorboard-data-server<0.7.0,>=0.6.0 in /usr/local/lib/python3.7/dist-packages (from tensorboard<2.9,>=2.8->tensorflow>=2.2->focal_loss) (0.6.1)\n",
            "Requirement already satisfied: google-auth<3,>=1.6.3 in /usr/local/lib/python3.7/dist-packages (from tensorboard<2.9,>=2.8->tensorflow>=2.2->focal_loss) (1.35.0)\n",
            "Requirement already satisfied: requests<3,>=2.21.0 in /usr/local/lib/python3.7/dist-packages (from tensorboard<2.9,>=2.8->tensorflow>=2.2->focal_loss) (2.23.0)\n",
            "Requirement already satisfied: google-auth-oauthlib<0.5,>=0.4.1 in /usr/local/lib/python3.7/dist-packages (from tensorboard<2.9,>=2.8->tensorflow>=2.2->focal_loss) (0.4.6)\n",
            "Requirement already satisfied: tensorboard-plugin-wit>=1.6.0 in /usr/local/lib/python3.7/dist-packages (from tensorboard<2.9,>=2.8->tensorflow>=2.2->focal_loss) (1.8.1)\n",
            "Requirement already satisfied: rsa<5,>=3.1.4 in /usr/local/lib/python3.7/dist-packages (from google-auth<3,>=1.6.3->tensorboard<2.9,>=2.8->tensorflow>=2.2->focal_loss) (4.8)\n",
            "Requirement already satisfied: pyasn1-modules>=0.2.1 in /usr/local/lib/python3.7/dist-packages (from google-auth<3,>=1.6.3->tensorboard<2.9,>=2.8->tensorflow>=2.2->focal_loss) (0.2.8)\n",
            "Requirement already satisfied: cachetools<5.0,>=2.0.0 in /usr/local/lib/python3.7/dist-packages (from google-auth<3,>=1.6.3->tensorboard<2.9,>=2.8->tensorflow>=2.2->focal_loss) (4.2.4)\n",
            "Requirement already satisfied: requests-oauthlib>=0.7.0 in /usr/local/lib/python3.7/dist-packages (from google-auth-oauthlib<0.5,>=0.4.1->tensorboard<2.9,>=2.8->tensorflow>=2.2->focal_loss) (1.3.1)\n",
            "Requirement already satisfied: importlib-metadata>=4.4 in /usr/local/lib/python3.7/dist-packages (from markdown>=2.6.8->tensorboard<2.9,>=2.8->tensorflow>=2.2->focal_loss) (4.11.3)\n",
            "Requirement already satisfied: zipp>=0.5 in /usr/local/lib/python3.7/dist-packages (from importlib-metadata>=4.4->markdown>=2.6.8->tensorboard<2.9,>=2.8->tensorflow>=2.2->focal_loss) (3.7.0)\n",
            "Requirement already satisfied: pyasn1<0.5.0,>=0.4.6 in /usr/local/lib/python3.7/dist-packages (from pyasn1-modules>=0.2.1->google-auth<3,>=1.6.3->tensorboard<2.9,>=2.8->tensorflow>=2.2->focal_loss) (0.4.8)\n",
            "Requirement already satisfied: urllib3!=1.25.0,!=1.25.1,<1.26,>=1.21.1 in /usr/local/lib/python3.7/dist-packages (from requests<3,>=2.21.0->tensorboard<2.9,>=2.8->tensorflow>=2.2->focal_loss) (1.24.3)\n",
            "Requirement already satisfied: certifi>=2017.4.17 in /usr/local/lib/python3.7/dist-packages (from requests<3,>=2.21.0->tensorboard<2.9,>=2.8->tensorflow>=2.2->focal_loss) (2021.10.8)\n",
            "Requirement already satisfied: idna<3,>=2.5 in /usr/local/lib/python3.7/dist-packages (from requests<3,>=2.21.0->tensorboard<2.9,>=2.8->tensorflow>=2.2->focal_loss) (2.10)\n",
            "Requirement already satisfied: chardet<4,>=3.0.2 in /usr/local/lib/python3.7/dist-packages (from requests<3,>=2.21.0->tensorboard<2.9,>=2.8->tensorflow>=2.2->focal_loss) (3.0.4)\n",
            "Requirement already satisfied: oauthlib>=3.0.0 in /usr/local/lib/python3.7/dist-packages (from requests-oauthlib>=0.7.0->google-auth-oauthlib<0.5,>=0.4.1->tensorboard<2.9,>=2.8->tensorflow>=2.2->focal_loss) (3.2.0)\n",
            "Requirement already satisfied: packaging>=20.0 in /usr/local/lib/python3.7/dist-packages (from transformers) (21.3)\n",
            "Collecting pyyaml>=5.1\n",
            "  Downloading PyYAML-6.0-cp37-cp37m-manylinux_2_5_x86_64.manylinux1_x86_64.manylinux_2_12_x86_64.manylinux2010_x86_64.whl (596 kB)\n",
            "\u001b[K     |████████████████████████████████| 596 kB 31.6 MB/s \n",
            "\u001b[?25hCollecting tokenizers!=0.11.3,>=0.11.1\n",
            "  Downloading tokenizers-0.11.6-cp37-cp37m-manylinux_2_12_x86_64.manylinux2010_x86_64.whl (6.5 MB)\n",
            "\u001b[K     |████████████████████████████████| 6.5 MB 40.8 MB/s \n",
            "\u001b[?25hRequirement already satisfied: filelock in /usr/local/lib/python3.7/dist-packages (from transformers) (3.6.0)\n",
            "Requirement already satisfied: tqdm>=4.27 in /usr/local/lib/python3.7/dist-packages (from transformers) (4.63.0)\n",
            "Collecting sacremoses\n",
            "  Downloading sacremoses-0.0.49-py3-none-any.whl (895 kB)\n",
            "\u001b[K     |████████████████████████████████| 895 kB 41.5 MB/s \n",
            "\u001b[?25hRequirement already satisfied: regex!=2019.12.17 in /usr/local/lib/python3.7/dist-packages (from transformers) (2019.12.20)\n",
            "Collecting huggingface-hub<1.0,>=0.1.0\n",
            "  Downloading huggingface_hub-0.4.0-py3-none-any.whl (67 kB)\n",
            "\u001b[K     |████████████████████████████████| 67 kB 4.4 MB/s \n",
            "\u001b[?25hRequirement already satisfied: pyparsing!=3.0.5,>=2.0.2 in /usr/local/lib/python3.7/dist-packages (from packaging>=20.0->transformers) (3.0.7)\n",
            "Requirement already satisfied: joblib in /usr/local/lib/python3.7/dist-packages (from sacremoses->transformers) (1.1.0)\n",
            "Requirement already satisfied: click in /usr/local/lib/python3.7/dist-packages (from sacremoses->transformers) (7.1.2)\n",
            "Installing collected packages: tf-estimator-nightly, pyyaml, tokenizers, sacremoses, huggingface-hub, transformers, focal-loss\n",
            "  Attempting uninstall: pyyaml\n",
            "    Found existing installation: PyYAML 3.13\n",
            "    Uninstalling PyYAML-3.13:\n",
            "      Successfully uninstalled PyYAML-3.13\n",
            "Successfully installed focal-loss-0.0.7 huggingface-hub-0.4.0 pyyaml-6.0 sacremoses-0.0.49 tf-estimator-nightly-2.8.0.dev2021122109 tokenizers-0.11.6 transformers-4.17.0\n"
          ]
        }
      ]
    },
    {
      "cell_type": "code",
      "source": [
        "from transformers import AutoTokenizer, TFAutoModel, AutoConfig\n",
        "import re\n",
        "import io\n",
        "import pandas as pd\n",
        "import numpy as np\n",
        "from sklearn.metrics import f1_score, accuracy_score,precision_score,recall_score\n",
        "from zipfile import ZipFile\n",
        "from IPython.display import FileLink \n",
        "import tensorflow as tf\n",
        "from focal_loss import SparseCategoricalFocalLoss\n",
        "#import tensorflow_addons as tfa\n",
        "np.random.seed(45)\n",
        "tf.random.set_seed(45)\n",
        "tpu_strategy = tf.distribute.experimental.TPUStrategy(tf.distribute.cluster_resolver.TPUClusterResolver.connect())"
      ],
      "metadata": {
        "tags": [],
        "id": "A-40rd7lvQNV",
        "execution": {
          "iopub.status.busy": "2022-03-27T16:36:02.816305Z",
          "iopub.execute_input": "2022-03-27T16:36:02.816580Z",
          "iopub.status.idle": "2022-03-27T16:36:10.196273Z",
          "shell.execute_reply.started": "2022-03-27T16:36:02.816551Z",
          "shell.execute_reply": "2022-03-27T16:36:10.195454Z"
        },
        "trusted": true,
        "colab": {
          "base_uri": "https://localhost:8080/"
        },
        "outputId": "f2a03826-8663-4e7c-988d-1b3acae8ec95"
      },
      "execution_count": null,
      "outputs": [
        {
          "output_type": "stream",
          "name": "stdout",
          "text": [
            "INFO:tensorflow:Deallocate tpu buffers before initializing tpu system.\n"
          ]
        },
        {
          "output_type": "stream",
          "name": "stderr",
          "text": [
            "INFO:tensorflow:Deallocate tpu buffers before initializing tpu system.\n"
          ]
        },
        {
          "output_type": "stream",
          "name": "stdout",
          "text": [
            "INFO:tensorflow:Initializing the TPU system: grpc://10.121.32.130:8470\n"
          ]
        },
        {
          "output_type": "stream",
          "name": "stderr",
          "text": [
            "INFO:tensorflow:Initializing the TPU system: grpc://10.121.32.130:8470\n"
          ]
        },
        {
          "output_type": "stream",
          "name": "stdout",
          "text": [
            "INFO:tensorflow:Finished initializing TPU system.\n"
          ]
        },
        {
          "output_type": "stream",
          "name": "stderr",
          "text": [
            "INFO:tensorflow:Finished initializing TPU system.\n",
            "WARNING:absl:`tf.distribute.experimental.TPUStrategy` is deprecated, please use  the non experimental symbol `tf.distribute.TPUStrategy` instead.\n"
          ]
        },
        {
          "output_type": "stream",
          "name": "stdout",
          "text": [
            "INFO:tensorflow:Found TPU system:\n"
          ]
        },
        {
          "output_type": "stream",
          "name": "stderr",
          "text": [
            "INFO:tensorflow:Found TPU system:\n"
          ]
        },
        {
          "output_type": "stream",
          "name": "stdout",
          "text": [
            "INFO:tensorflow:*** Num TPU Cores: 8\n"
          ]
        },
        {
          "output_type": "stream",
          "name": "stderr",
          "text": [
            "INFO:tensorflow:*** Num TPU Cores: 8\n"
          ]
        },
        {
          "output_type": "stream",
          "name": "stdout",
          "text": [
            "INFO:tensorflow:*** Num TPU Workers: 1\n"
          ]
        },
        {
          "output_type": "stream",
          "name": "stderr",
          "text": [
            "INFO:tensorflow:*** Num TPU Workers: 1\n"
          ]
        },
        {
          "output_type": "stream",
          "name": "stdout",
          "text": [
            "INFO:tensorflow:*** Num TPU Cores Per Worker: 8\n"
          ]
        },
        {
          "output_type": "stream",
          "name": "stderr",
          "text": [
            "INFO:tensorflow:*** Num TPU Cores Per Worker: 8\n"
          ]
        },
        {
          "output_type": "stream",
          "name": "stdout",
          "text": [
            "INFO:tensorflow:*** Available Device: _DeviceAttributes(/job:localhost/replica:0/task:0/device:CPU:0, CPU, 0, 0)\n"
          ]
        },
        {
          "output_type": "stream",
          "name": "stderr",
          "text": [
            "INFO:tensorflow:*** Available Device: _DeviceAttributes(/job:localhost/replica:0/task:0/device:CPU:0, CPU, 0, 0)\n"
          ]
        },
        {
          "output_type": "stream",
          "name": "stdout",
          "text": [
            "INFO:tensorflow:*** Available Device: _DeviceAttributes(/job:worker/replica:0/task:0/device:CPU:0, CPU, 0, 0)\n"
          ]
        },
        {
          "output_type": "stream",
          "name": "stderr",
          "text": [
            "INFO:tensorflow:*** Available Device: _DeviceAttributes(/job:worker/replica:0/task:0/device:CPU:0, CPU, 0, 0)\n"
          ]
        },
        {
          "output_type": "stream",
          "name": "stdout",
          "text": [
            "INFO:tensorflow:*** Available Device: _DeviceAttributes(/job:worker/replica:0/task:0/device:TPU:0, TPU, 0, 0)\n"
          ]
        },
        {
          "output_type": "stream",
          "name": "stderr",
          "text": [
            "INFO:tensorflow:*** Available Device: _DeviceAttributes(/job:worker/replica:0/task:0/device:TPU:0, TPU, 0, 0)\n"
          ]
        },
        {
          "output_type": "stream",
          "name": "stdout",
          "text": [
            "INFO:tensorflow:*** Available Device: _DeviceAttributes(/job:worker/replica:0/task:0/device:TPU:1, TPU, 0, 0)\n"
          ]
        },
        {
          "output_type": "stream",
          "name": "stderr",
          "text": [
            "INFO:tensorflow:*** Available Device: _DeviceAttributes(/job:worker/replica:0/task:0/device:TPU:1, TPU, 0, 0)\n"
          ]
        },
        {
          "output_type": "stream",
          "name": "stdout",
          "text": [
            "INFO:tensorflow:*** Available Device: _DeviceAttributes(/job:worker/replica:0/task:0/device:TPU:2, TPU, 0, 0)\n"
          ]
        },
        {
          "output_type": "stream",
          "name": "stderr",
          "text": [
            "INFO:tensorflow:*** Available Device: _DeviceAttributes(/job:worker/replica:0/task:0/device:TPU:2, TPU, 0, 0)\n"
          ]
        },
        {
          "output_type": "stream",
          "name": "stdout",
          "text": [
            "INFO:tensorflow:*** Available Device: _DeviceAttributes(/job:worker/replica:0/task:0/device:TPU:3, TPU, 0, 0)\n"
          ]
        },
        {
          "output_type": "stream",
          "name": "stderr",
          "text": [
            "INFO:tensorflow:*** Available Device: _DeviceAttributes(/job:worker/replica:0/task:0/device:TPU:3, TPU, 0, 0)\n"
          ]
        },
        {
          "output_type": "stream",
          "name": "stdout",
          "text": [
            "INFO:tensorflow:*** Available Device: _DeviceAttributes(/job:worker/replica:0/task:0/device:TPU:4, TPU, 0, 0)\n"
          ]
        },
        {
          "output_type": "stream",
          "name": "stderr",
          "text": [
            "INFO:tensorflow:*** Available Device: _DeviceAttributes(/job:worker/replica:0/task:0/device:TPU:4, TPU, 0, 0)\n"
          ]
        },
        {
          "output_type": "stream",
          "name": "stdout",
          "text": [
            "INFO:tensorflow:*** Available Device: _DeviceAttributes(/job:worker/replica:0/task:0/device:TPU:5, TPU, 0, 0)\n"
          ]
        },
        {
          "output_type": "stream",
          "name": "stderr",
          "text": [
            "INFO:tensorflow:*** Available Device: _DeviceAttributes(/job:worker/replica:0/task:0/device:TPU:5, TPU, 0, 0)\n"
          ]
        },
        {
          "output_type": "stream",
          "name": "stdout",
          "text": [
            "INFO:tensorflow:*** Available Device: _DeviceAttributes(/job:worker/replica:0/task:0/device:TPU:6, TPU, 0, 0)\n"
          ]
        },
        {
          "output_type": "stream",
          "name": "stderr",
          "text": [
            "INFO:tensorflow:*** Available Device: _DeviceAttributes(/job:worker/replica:0/task:0/device:TPU:6, TPU, 0, 0)\n"
          ]
        },
        {
          "output_type": "stream",
          "name": "stdout",
          "text": [
            "INFO:tensorflow:*** Available Device: _DeviceAttributes(/job:worker/replica:0/task:0/device:TPU:7, TPU, 0, 0)\n"
          ]
        },
        {
          "output_type": "stream",
          "name": "stderr",
          "text": [
            "INFO:tensorflow:*** Available Device: _DeviceAttributes(/job:worker/replica:0/task:0/device:TPU:7, TPU, 0, 0)\n"
          ]
        },
        {
          "output_type": "stream",
          "name": "stdout",
          "text": [
            "INFO:tensorflow:*** Available Device: _DeviceAttributes(/job:worker/replica:0/task:0/device:TPU_SYSTEM:0, TPU_SYSTEM, 0, 0)\n"
          ]
        },
        {
          "output_type": "stream",
          "name": "stderr",
          "text": [
            "INFO:tensorflow:*** Available Device: _DeviceAttributes(/job:worker/replica:0/task:0/device:TPU_SYSTEM:0, TPU_SYSTEM, 0, 0)\n"
          ]
        },
        {
          "output_type": "stream",
          "name": "stdout",
          "text": [
            "INFO:tensorflow:*** Available Device: _DeviceAttributes(/job:worker/replica:0/task:0/device:XLA_CPU:0, XLA_CPU, 0, 0)\n"
          ]
        },
        {
          "output_type": "stream",
          "name": "stderr",
          "text": [
            "INFO:tensorflow:*** Available Device: _DeviceAttributes(/job:worker/replica:0/task:0/device:XLA_CPU:0, XLA_CPU, 0, 0)\n"
          ]
        }
      ]
    },
    {
      "cell_type": "code",
      "source": [
        "train_data=pd.read_csv(\"/content/train.csv\")\n",
        "valid_data=pd.read_csv(\"/content/valid.csv\")"
      ],
      "metadata": {
        "id": "oYyts0EqvQNW",
        "execution": {
          "iopub.status.busy": "2022-03-27T16:36:10.197851Z",
          "iopub.execute_input": "2022-03-27T16:36:10.198188Z",
          "iopub.status.idle": "2022-03-27T16:36:10.258916Z",
          "shell.execute_reply.started": "2022-03-27T16:36:10.198152Z",
          "shell.execute_reply": "2022-03-27T16:36:10.258058Z"
        },
        "trusted": true
      },
      "execution_count": null,
      "outputs": []
    },
    {
      "cell_type": "code",
      "source": [
        "OFF=train_data.loc[(train_data[\"OFF_label\"]==1)&(train_data[\"HS_label\"]==0)].sample(1100)\n",
        "NORM=train_data.loc[train_data[\"OFF_label\"]==0].sample(1100)\n",
        "HS=train_data.loc[train_data[\"HS_label\"]!=0]\n",
        "train_data=OFF.append(NORM)\n",
        "train_data=train_data.append(HS)\n",
        "train_data=train_data.sample(frac=1).reset_index(drop=True)"
      ],
      "metadata": {
        "id": "b-kuvxMzldvQ",
        "execution": {
          "iopub.status.busy": "2022-03-27T16:36:10.261195Z",
          "iopub.execute_input": "2022-03-27T16:36:10.261411Z",
          "iopub.status.idle": "2022-03-27T16:36:10.284709Z",
          "shell.execute_reply.started": "2022-03-27T16:36:10.261381Z",
          "shell.execute_reply": "2022-03-27T16:36:10.283944Z"
        },
        "trusted": true
      },
      "execution_count": null,
      "outputs": []
    },
    {
      "cell_type": "code",
      "source": [
        "def encode_labels(data):\n",
        "    labels=[]\n",
        "    for row in data.to_dict(orient=\"records\"):\n",
        "        if row[\"HS_label\"]!=0:\n",
        "            labels.append(int(row[\"HS_label\"])+1)\n",
        "        elif row[\"OFF_label\"]!=0:\n",
        "            labels.append(int(row[\"OFF_label\"]))\n",
        "        else:\n",
        "            labels.append(0)\n",
        "    text=list(data[\"tweet_text\"].astype(\"str\"))\n",
        "    return text,np.asarray(labels, dtype='int32')\n",
        "\n",
        "train_text,train_labels=encode_labels(train_data)\n",
        "valid_text,valid_labels=encode_labels(valid_data)"
      ],
      "metadata": {
        "id": "uuP2kPYQvQNW",
        "execution": {
          "iopub.status.busy": "2022-03-27T16:36:10.287661Z",
          "iopub.execute_input": "2022-03-27T16:36:10.287868Z",
          "iopub.status.idle": "2022-03-27T16:36:10.330232Z",
          "shell.execute_reply.started": "2022-03-27T16:36:10.287844Z",
          "shell.execute_reply": "2022-03-27T16:36:10.329280Z"
        },
        "trusted": true
      },
      "execution_count": null,
      "outputs": []
    },
    {
      "cell_type": "code",
      "source": [
        "def encode_vlabels(data):\n",
        "    encoded_OFF=tf.convert_to_tensor(data[\"OFF_label\"].astype(\"int32\"))\n",
        "    encoded_HS=data[\"HS_label\"].astype(\"int32\")\n",
        "    text=list(data[\"tweet_text\"].astype(\"str\"))\n",
        "    return text,encoded_OFF,encoded_HS\n",
        "\n",
        "valid_text,valid_OFF,valid_HS=encode_vlabels(valid_data)"
      ],
      "metadata": {
        "id": "-7LbOi7oHEiv",
        "execution": {
          "iopub.status.busy": "2022-03-27T16:36:10.333495Z",
          "iopub.execute_input": "2022-03-27T16:36:10.333709Z",
          "iopub.status.idle": "2022-03-27T16:36:15.419765Z",
          "shell.execute_reply.started": "2022-03-27T16:36:10.333684Z",
          "shell.execute_reply": "2022-03-27T16:36:15.418876Z"
        },
        "trusted": true
      },
      "execution_count": null,
      "outputs": []
    },
    {
      "cell_type": "code",
      "source": [
        "def Binary_HS_feature_gen(encoded_HS):\n",
        "    HS_bn=[]\n",
        "    for x in encoded_HS:\n",
        "        HS_bn.append(x!=0)\n",
        "    return tf.convert_to_tensor(HS_bn)\n",
        "train_HS_bn=Binary_HS_feature_gen(train_data[\"HS_label\"])\n",
        "valid_HS_bn=Binary_HS_feature_gen(valid_data[\"HS_label\"])"
      ],
      "metadata": {
        "id": "416Gqk7NvQNX",
        "execution": {
          "iopub.status.busy": "2022-03-27T16:36:15.421553Z",
          "iopub.execute_input": "2022-03-27T16:36:15.422296Z",
          "iopub.status.idle": "2022-03-27T16:36:15.440067Z",
          "shell.execute_reply.started": "2022-03-27T16:36:15.422253Z",
          "shell.execute_reply": "2022-03-27T16:36:15.439302Z"
        },
        "trusted": true
      },
      "execution_count": null,
      "outputs": []
    },
    {
      "cell_type": "code",
      "source": [
        "def tokenize(sentences):\n",
        "    tokenizer = AutoTokenizer.from_pretrained(\"UBC-NLP/MARBERTv2\")\n",
        "    input_ids, input_masks = [],[]\n",
        "    for sentence in sentences:\n",
        "        inputs = tokenizer.encode_plus(sentence, add_special_tokens=True,max_length=256,truncation=True, padding='max_length',return_attention_mask=True, return_token_type_ids=True)\n",
        "        input_ids.append(inputs['input_ids'])\n",
        "        input_masks.append(inputs['attention_mask'])\n",
        "    return np.asarray(input_ids, dtype='int32'),np.asarray(input_masks, dtype='int32')\n",
        "\n",
        "train_input_ids,train_input_masks=tokenize(train_text)\n",
        "valid_input_ids,valid_input_masks=tokenize(valid_text)"
      ],
      "metadata": {
        "id": "NbwcCliovQNX",
        "execution": {
          "iopub.status.busy": "2022-03-27T16:36:15.443349Z",
          "iopub.execute_input": "2022-03-27T16:36:15.443597Z"
        },
        "trusted": true,
        "colab": {
          "base_uri": "https://localhost:8080/",
          "height": 113,
          "referenced_widgets": [
            "3d010400fcf3484387ce30f914152928",
            "f197d86ed918434a9bbac4c3c6bb865d",
            "fde7008b898e44c186eecb26f665e882",
            "479ca2f6cc8545e1b675bb2bc37b3302",
            "93792c51284540b4b788ce616fe63fba",
            "9f3fcd8a7b814e63b3c4885d790d8996",
            "45a1edd7eef44824a99be65799687ddb",
            "624034caf93a4ed9b2b4defe7f246b25",
            "178c4edc36014e0b87f9b0cac80d2339",
            "96f3977405254089bda5201f44e847dc",
            "6cbc6b3a83814607a25fabd9ecc9f846",
            "8b7cd2d439614fd399c7dcc217a09b9b",
            "b51f81d89053436ea5fea22f8793ea8a",
            "4e08d31f48bb45ae84d5698c1adf2c32",
            "17862de464924abd86441852006724cc",
            "2e7c528469874c8e99b38f84a7a5f2c2",
            "5f86c85bb83d459dbcf50aceb17276a5",
            "e62700221aba473a898ad2db30bc746f",
            "195ddf9149134a469cad49f14c435180",
            "fd0beedef7d94e4e88e025b21a11b911",
            "bd165528076846f99ec081a73e540797",
            "d56492d398684d10971347277f19dd29",
            "38a503c93c2d49eaa66d9e74378d58e3",
            "a98fd26ab65b4547b5a984234c0de6e6",
            "a7659d60c75643fe91298cd547c37fab",
            "d89a75107d3a436dbff9349ddc4e538e",
            "1b972c3ac4334b739c69966e974001c3",
            "133f8b77545a47f18b366a3879ed0d69",
            "99d89f8666294699a37a631d21c7df09",
            "c0dce52ff3e84172b55df567ab053675",
            "72ca8ca4111a4db9a4558067c3ec40ac",
            "0189bb1891ed419896799ef6fe5ac58e",
            "a455404b673d41f7bf2efd976573bd89"
          ]
        },
        "outputId": "c2072282-086c-4015-b7be-1e3033ce03a4"
      },
      "execution_count": null,
      "outputs": [
        {
          "output_type": "display_data",
          "data": {
            "text/plain": [
              "Downloading:   0%|          | 0.00/439 [00:00<?, ?B/s]"
            ],
            "application/vnd.jupyter.widget-view+json": {
              "version_major": 2,
              "version_minor": 0,
              "model_id": "3d010400fcf3484387ce30f914152928"
            }
          },
          "metadata": {}
        },
        {
          "output_type": "display_data",
          "data": {
            "text/plain": [
              "Downloading:   0%|          | 0.00/1.05M [00:00<?, ?B/s]"
            ],
            "application/vnd.jupyter.widget-view+json": {
              "version_major": 2,
              "version_minor": 0,
              "model_id": "8b7cd2d439614fd399c7dcc217a09b9b"
            }
          },
          "metadata": {}
        },
        {
          "output_type": "display_data",
          "data": {
            "text/plain": [
              "Downloading:   0%|          | 0.00/112 [00:00<?, ?B/s]"
            ],
            "application/vnd.jupyter.widget-view+json": {
              "version_major": 2,
              "version_minor": 0,
              "model_id": "38a503c93c2d49eaa66d9e74378d58e3"
            }
          },
          "metadata": {}
        }
      ]
    },
    {
      "cell_type": "code",
      "source": [
        "def report_gen(predictions,labels):\n",
        "    report={\n",
        "    \"F1_macro\":f1_score(predictions,labels,average=\"macro\"),\n",
        "    \"Accuracy\":accuracy_score(predictions,labels),\n",
        "    \"Precision_macro\":precision_score(predictions,labels,average=\"macro\"),\n",
        "    \"Recall_macro\":recall_score(predictions,labels,average=\"macro\")\n",
        "    }\n",
        "    return report\n",
        "\n",
        "def eval_taskA(predictions,labels_OFF,return_predictions=False):\n",
        "    predict_class = np.argmax(predictions, axis=1)\n",
        "    predict_class = predict_class.tolist()\n",
        "    predictions_OFF=[]\n",
        "    for i in predict_class:\n",
        "        if i!=0:\n",
        "            predictions_OFF.append(1)\n",
        "        else:\n",
        "            predictions_OFF.append(0)\n",
        "    return predictions_OFF if return_predictions else report_gen(predictions_OFF,labels_OFF)\n",
        "\n",
        "def eval_taskB(predictions,labels_HS_bn,return_predictions=False):\n",
        "    predict_class = np.argmax(predictions, axis=1)\n",
        "    predict_class = predict_class.tolist()\n",
        "    predictions_HS_bn=[]\n",
        "    for i in predict_class:\n",
        "        if i!=0 and i!=1:\n",
        "            predictions_HS_bn.append(1)\n",
        "        else:\n",
        "            predictions_HS_bn.append(0)\n",
        "    return predictions_HS_bn if return_predictions else report_gen(predictions_HS_bn,labels_HS_bn)\n",
        "\n",
        "\n",
        "def eval_taskC(predictions,labels_HS,return_predictions=False):\n",
        "    predict_class = np.argmax(predictions, axis=1)\n",
        "    predict_class = predict_class.tolist()\n",
        "    predictions_HS=[]\n",
        "    for i in predict_class:\n",
        "        if i!=0 and i!=1:\n",
        "            predictions_HS.append(i-1)\n",
        "        else:\n",
        "            predictions_HS.append(0)\n",
        "    return predictions_HS if return_predictions else report_gen(predictions_HS,labels_HS)\n"
      ],
      "metadata": {
        "id": "1xcWQK0kvQNX",
        "trusted": true
      },
      "execution_count": null,
      "outputs": []
    },
    {
      "cell_type": "code",
      "source": [
        "def create_model(transformer,conv_units=128,qrnn_units=256,dense_units=64):\n",
        "    input_ids= tf.keras.layers.Input(shape=(256,), dtype='int32')\n",
        "    input_masks = tf.keras.layers.Input(shape=(256,), dtype='int32')\n",
        "    embedding_layer=transformer(input_ids, attention_mask=input_masks)[0]\n",
        "    \n",
        "    x = tf.keras.layers.Bidirectional(tf.keras.layers.GRU(256, return_sequences=True, dropout=0.3))(embedding_layer)\n",
        "    x = tf.keras.layers.Bidirectional(tf.keras.layers.GRU(256, return_sequences=True, dropout=0.3))(x)\n",
        "    x = tf.keras.layers.Bidirectional(tf.keras.layers.GRU(256, return_sequences=True, dropout=0.3))(x)\n",
        "    x = tf.keras.layers.Conv1D(128, kernel_size = 3, padding = \"valid\", kernel_initializer = \"glorot_uniform\")(x)\n",
        "    avg_pool_x= tf.keras.layers.GlobalAveragePooling1D()(x)\n",
        "    max_pool_x = tf.keras.layers.GlobalMaxPooling1D()(x)\n",
        "    x = tf.keras.layers.concatenate([avg_pool_x, max_pool_x])\n",
        "    output=tf.keras.layers.Dense(8, activation=\"softmax\",name=\"output\")(x)\n",
        "\n",
        "    model = tf.keras.Model(inputs=[input_ids, input_masks], outputs = [output])\n",
        "    \n",
        "    return model"
      ],
      "metadata": {
        "id": "5UjHrG4sVrCu",
        "trusted": true
      },
      "execution_count": null,
      "outputs": []
    },
    {
      "cell_type": "code",
      "source": [
        "def gen_weights(labels):\n",
        "    count={}\n",
        "    for i in labels:\n",
        "        if i not in count:\n",
        "            count[i]=1\n",
        "        else:\n",
        "            count[i]+=1 \n",
        "    weights={}\n",
        "    for i in range(8):\n",
        "        weights[i]=len(labels)/(8*count[i])\n",
        "    return weights\n",
        "weights=gen_weights(train_labels)"
      ],
      "metadata": {
        "id": "IwJhj-EKE18I",
        "trusted": true
      },
      "execution_count": null,
      "outputs": []
    },
    {
      "cell_type": "code",
      "source": [
        "def build_model():\n",
        "    with tpu_strategy.scope():\n",
        "      config =AutoConfig.from_pretrained(\"UBC-NLP/MARBERTv2\",dropout=0.3,seed=3,attention_dropout=0.3,output_hidden_states = True)\n",
        "      transformer= TFAutoModel.from_pretrained(\"UBC-NLP/MARBERTv2\",config=config)\n",
        "      return create_model(transformer)\n",
        "\n",
        "model=build_model()\n",
        "\n",
        "def train_model(model,input_ids,input_masks,labels,weights,batch_size=64,epochs_frozen=2,epochs_unfrozen=30,verbose=1):\n",
        "   \n",
        "    if epochs_frozen:\n",
        "        \n",
        "        for layer in model.layers[:3]:\n",
        "            layer.trainable = False\n",
        "\n",
        "        with tpu_strategy.scope():\n",
        "          model.compile(loss={\"output\":SparseCategoricalFocalLoss(gamma=2)},\n",
        "                          optimizer=tf.keras.optimizers.Adam(learning_rate=1e-3), \n",
        "                          metrics=\"sparse_categorical_accuracy\")\n",
        "\n",
        "          model.fit([input_ids, input_masks],labels,batch_size=64,epochs=epochs_frozen,verbose=verbose,\n",
        "                   validation_data=([valid_input_ids,valid_input_masks],valid_labels), class_weight=weights)\n",
        "        \n",
        "    if epochs_unfrozen:\n",
        "        \n",
        "        for layer in model.layers[:3]:\n",
        "            layer.trainable = True\n",
        "\n",
        "        with tpu_strategy.scope():\n",
        "          model.compile(loss={\"output\":SparseCategoricalFocalLoss(gamma=2)},\n",
        "                          optimizer=tf.keras.optimizers.Adam(learning_rate=1e-4), \n",
        "                          metrics=\"sparse_categorical_accuracy\")\n",
        "          model.fit([input_ids, input_masks],labels,batch_size=64,epochs=epochs_unfrozen,verbose=verbose,\n",
        "                    validation_data=([valid_input_ids,valid_input_masks],valid_labels), class_weight=weights)\n",
        "\n",
        "train_model(model,train_input_ids,train_input_masks,train_labels,weights)"
      ],
      "metadata": {
        "id": "MvnYJPLHvQNb",
        "outputId": "ed1fbb80-af7d-462d-f218-1248de6ca10b",
        "trusted": true,
        "colab": {
          "base_uri": "https://localhost:8080/",
          "height": 1000,
          "referenced_widgets": [
            "b8d1a8eb6db845eca67fc7799df52576",
            "317132aa61a04b49b51ee3c6ca7a07f5",
            "351c5c7bf12f4117aab84489b0d8e02b",
            "fa10a5e0a09840658f41c36a9114cae8",
            "6c0f192aebcb45c1a78ef51767330ed3",
            "705b0edeefcb42e8acc671fb99cd0184",
            "3ce897b49ce44dd7a3c95c30e856bc2a",
            "da89502659e94fcfb933c98763f99e17",
            "102b5f0bdbea414f82acb3ac48a3faa8",
            "582b7d312a4d4bb593d8efb48d6558be",
            "3bbbc8b3eb7e43588789755c81544d12",
            "4bbb3f8ed00a4cd8b6926af3c035c807",
            "130e179916d1446293f0b9c0225b1477",
            "b100088fb6c4460e8ca0282db54cc6b3",
            "8f88ec4a0f12487aa7386d2545961ce2",
            "b9f99d870796423cb30fe93ee6f93794",
            "29c573974cd34152a33611fa3420e141",
            "54ecbcfeed2d404fbe0927127cc6dc12",
            "57cf670446964ea5937ef71b7c739647",
            "b1c08ddcf32240b792d52936e4bf1bc4",
            "1339406181b949cdbfa6568710506227",
            "d8202248ac08428e96dc1fc4479b9916"
          ]
        }
      },
      "execution_count": null,
      "outputs": [
        {
          "output_type": "display_data",
          "data": {
            "text/plain": [
              "Downloading:   0%|          | 0.00/757 [00:00<?, ?B/s]"
            ],
            "application/vnd.jupyter.widget-view+json": {
              "version_major": 2,
              "version_minor": 0,
              "model_id": "b8d1a8eb6db845eca67fc7799df52576"
            }
          },
          "metadata": {}
        },
        {
          "output_type": "display_data",
          "data": {
            "text/plain": [
              "Downloading:   0%|          | 0.00/621M [00:00<?, ?B/s]"
            ],
            "application/vnd.jupyter.widget-view+json": {
              "version_major": 2,
              "version_minor": 0,
              "model_id": "4bbb3f8ed00a4cd8b6926af3c035c807"
            }
          },
          "metadata": {}
        },
        {
          "output_type": "stream",
          "name": "stderr",
          "text": [
            "All model checkpoint layers were used when initializing TFBertModel.\n",
            "\n",
            "All the layers of TFBertModel were initialized from the model checkpoint at UBC-NLP/MARBERTv2.\n",
            "If your task is similar to the task the model of the checkpoint was trained on, you can already use TFBertModel for predictions without further training.\n"
          ]
        },
        {
          "output_type": "stream",
          "name": "stdout",
          "text": [
            "Epoch 1/2\n",
            "50/50 [==============================] - 80s 826ms/step - loss: 1.8038 - sparse_categorical_accuracy: 0.2574 - val_loss: 0.8614 - val_sparse_categorical_accuracy: 0.5268\n",
            "Epoch 2/2\n",
            "50/50 [==============================] - 6s 129ms/step - loss: 1.5110 - sparse_categorical_accuracy: 0.4189 - val_loss: 1.4689 - val_sparse_categorical_accuracy: 0.2685\n",
            "Epoch 1/30\n",
            "WARNING:tensorflow:Gradients do not exist for variables ['tf_bert_model/bert/pooler/dense/kernel:0', 'tf_bert_model/bert/pooler/dense/bias:0'] when minimizing the loss. If you're using `model.compile()`, did you forget to provide a `loss`argument?\n"
          ]
        },
        {
          "output_type": "stream",
          "name": "stderr",
          "text": [
            "WARNING:tensorflow:Gradients do not exist for variables ['tf_bert_model/bert/pooler/dense/kernel:0', 'tf_bert_model/bert/pooler/dense/bias:0'] when minimizing the loss. If you're using `model.compile()`, did you forget to provide a `loss`argument?\n"
          ]
        },
        {
          "output_type": "stream",
          "name": "stdout",
          "text": [
            "WARNING:tensorflow:Gradients do not exist for variables ['tf_bert_model/bert/pooler/dense/kernel:0', 'tf_bert_model/bert/pooler/dense/bias:0'] when minimizing the loss. If you're using `model.compile()`, did you forget to provide a `loss`argument?\n"
          ]
        },
        {
          "output_type": "stream",
          "name": "stderr",
          "text": [
            "WARNING:tensorflow:Gradients do not exist for variables ['tf_bert_model/bert/pooler/dense/kernel:0', 'tf_bert_model/bert/pooler/dense/bias:0'] when minimizing the loss. If you're using `model.compile()`, did you forget to provide a `loss`argument?\n"
          ]
        },
        {
          "output_type": "stream",
          "name": "stdout",
          "text": [
            "50/50 [==============================] - 200s 2s/step - loss: 1.0815 - sparse_categorical_accuracy: 0.4650 - val_loss: 0.6174 - val_sparse_categorical_accuracy: 0.5819\n",
            "Epoch 2/30\n",
            "50/50 [==============================] - 15s 296ms/step - loss: 0.5437 - sparse_categorical_accuracy: 0.6915 - val_loss: 0.4623 - val_sparse_categorical_accuracy: 0.6945\n",
            "Epoch 3/30\n",
            "50/50 [==============================] - 15s 298ms/step - loss: 0.1871 - sparse_categorical_accuracy: 0.7877 - val_loss: 0.4861 - val_sparse_categorical_accuracy: 0.7063\n",
            "Epoch 4/30\n",
            "50/50 [==============================] - 15s 297ms/step - loss: 0.0950 - sparse_categorical_accuracy: 0.8726 - val_loss: 0.6166 - val_sparse_categorical_accuracy: 0.6472\n",
            "Epoch 5/30\n",
            "50/50 [==============================] - 15s 297ms/step - loss: 0.0858 - sparse_categorical_accuracy: 0.8905 - val_loss: 0.5882 - val_sparse_categorical_accuracy: 0.6157\n",
            "Epoch 6/30\n",
            "50/50 [==============================] - 15s 298ms/step - loss: 0.0463 - sparse_categorical_accuracy: 0.9461 - val_loss: 0.7536 - val_sparse_categorical_accuracy: 0.6795\n",
            "Epoch 7/30\n",
            "50/50 [==============================] - 15s 297ms/step - loss: 0.0229 - sparse_categorical_accuracy: 0.9549 - val_loss: 0.7040 - val_sparse_categorical_accuracy: 0.7000\n",
            "Epoch 8/30\n",
            "50/50 [==============================] - 15s 298ms/step - loss: 0.0484 - sparse_categorical_accuracy: 0.9621 - val_loss: 1.0525 - val_sparse_categorical_accuracy: 0.5724\n",
            "Epoch 9/30\n",
            "50/50 [==============================] - 15s 297ms/step - loss: 0.0601 - sparse_categorical_accuracy: 0.9208 - val_loss: 0.5517 - val_sparse_categorical_accuracy: 0.7142\n",
            "Epoch 10/30\n",
            "50/50 [==============================] - 15s 299ms/step - loss: 0.1218 - sparse_categorical_accuracy: 0.9174 - val_loss: 1.2983 - val_sparse_categorical_accuracy: 0.6197\n",
            "Epoch 11/30\n",
            "50/50 [==============================] - 15s 298ms/step - loss: 1.9283 - sparse_categorical_accuracy: 0.4909 - val_loss: 0.9748 - val_sparse_categorical_accuracy: 0.4921\n",
            "Epoch 12/30\n",
            "50/50 [==============================] - 15s 298ms/step - loss: 0.9355 - sparse_categorical_accuracy: 0.6924 - val_loss: 1.5780 - val_sparse_categorical_accuracy: 0.4520\n",
            "Epoch 13/30\n",
            "50/50 [==============================] - 15s 298ms/step - loss: 0.3075 - sparse_categorical_accuracy: 0.7710 - val_loss: 0.6265 - val_sparse_categorical_accuracy: 0.6598\n",
            "Epoch 14/30\n",
            "50/50 [==============================] - 16s 312ms/step - loss: 0.2013 - sparse_categorical_accuracy: 0.8773 - val_loss: 1.0028 - val_sparse_categorical_accuracy: 0.5354\n",
            "Epoch 15/30\n",
            "50/50 [==============================] - 15s 298ms/step - loss: 0.0721 - sparse_categorical_accuracy: 0.9533 - val_loss: 1.4120 - val_sparse_categorical_accuracy: 0.3638\n",
            "Epoch 16/30\n",
            "50/50 [==============================] - 15s 298ms/step - loss: 0.0274 - sparse_categorical_accuracy: 0.9681 - val_loss: 0.9011 - val_sparse_categorical_accuracy: 0.6213\n",
            "Epoch 17/30\n",
            "50/50 [==============================] - 15s 298ms/step - loss: 0.4157 - sparse_categorical_accuracy: 0.7893 - val_loss: 0.7423 - val_sparse_categorical_accuracy: 0.5780\n",
            "Epoch 18/30\n",
            "50/50 [==============================] - 15s 305ms/step - loss: 0.4258 - sparse_categorical_accuracy: 0.8539 - val_loss: 1.6435 - val_sparse_categorical_accuracy: 0.1236\n",
            "Epoch 19/30\n",
            "50/50 [==============================] - 15s 298ms/step - loss: 0.1181 - sparse_categorical_accuracy: 0.8631 - val_loss: 1.4089 - val_sparse_categorical_accuracy: 0.5394\n",
            "Epoch 20/30\n",
            "50/50 [==============================] - 15s 298ms/step - loss: 0.1102 - sparse_categorical_accuracy: 0.9237 - val_loss: 1.6128 - val_sparse_categorical_accuracy: 0.5260\n",
            "Epoch 21/30\n",
            "50/50 [==============================] - 15s 298ms/step - loss: 0.0140 - sparse_categorical_accuracy: 0.9868 - val_loss: 1.4022 - val_sparse_categorical_accuracy: 0.5677\n",
            "Epoch 22/30\n",
            "50/50 [==============================] - 15s 297ms/step - loss: 0.0041 - sparse_categorical_accuracy: 0.9950 - val_loss: 1.4981 - val_sparse_categorical_accuracy: 0.5724\n",
            "Epoch 23/30\n",
            "50/50 [==============================] - 15s 298ms/step - loss: 0.0021 - sparse_categorical_accuracy: 0.9972 - val_loss: 1.4330 - val_sparse_categorical_accuracy: 0.5953\n",
            "Epoch 24/30\n",
            "50/50 [==============================] - 15s 302ms/step - loss: 0.0019 - sparse_categorical_accuracy: 0.9965 - val_loss: 1.5378 - val_sparse_categorical_accuracy: 0.5843\n",
            "Epoch 25/30\n",
            "50/50 [==============================] - 16s 316ms/step - loss: 9.9184e-04 - sparse_categorical_accuracy: 0.9975 - val_loss: 1.6358 - val_sparse_categorical_accuracy: 0.5780\n",
            "Epoch 26/30\n",
            "50/50 [==============================] - 15s 299ms/step - loss: 0.0017 - sparse_categorical_accuracy: 0.9981 - val_loss: 1.3401 - val_sparse_categorical_accuracy: 0.6236\n",
            "Epoch 27/30\n",
            "50/50 [==============================] - 15s 299ms/step - loss: 0.0011 - sparse_categorical_accuracy: 0.9987 - val_loss: 1.7814 - val_sparse_categorical_accuracy: 0.5701\n",
            "Epoch 28/30\n",
            "50/50 [==============================] - 15s 298ms/step - loss: 0.0013 - sparse_categorical_accuracy: 0.9981 - val_loss: 1.4456 - val_sparse_categorical_accuracy: 0.6031\n",
            "Epoch 29/30\n",
            "50/50 [==============================] - 15s 298ms/step - loss: 6.6620e-04 - sparse_categorical_accuracy: 0.9991 - val_loss: 1.4817 - val_sparse_categorical_accuracy: 0.6024\n",
            "Epoch 30/30\n",
            "50/50 [==============================] - 15s 297ms/step - loss: 0.0012 - sparse_categorical_accuracy: 0.9984 - val_loss: 1.5590 - val_sparse_categorical_accuracy: 0.5945\n"
          ]
        }
      ]
    },
    {
      "cell_type": "code",
      "source": [
        "def evaluate_model(model,input_ids,input_masks,labels_OFF,labels_HS,labels_HS_bn):\n",
        "    predictions=model.predict([input_ids,input_masks])\n",
        "    print(f\"TaskA:{eval_taskA(predictions,labels_OFF)}\")\n",
        "    print(f\"TaskB:{eval_taskB(predictions,labels_HS_bn)}\")\n",
        "    print(f\"TaskC:{eval_taskC(predictions,labels_HS)}\")\n",
        "evaluate_model(model,valid_input_ids,valid_input_masks,valid_OFF,valid_HS,valid_HS_bn)"
      ],
      "metadata": {
        "id": "n4kLuN65vQNc",
        "trusted": true,
        "colab": {
          "base_uri": "https://localhost:8080/"
        },
        "outputId": "4cb25e1f-a329-4d69-df4e-7d49c5402a8c"
      },
      "execution_count": null,
      "outputs": [
        {
          "output_type": "stream",
          "name": "stdout",
          "text": [
            "TaskA:{'F1_macro': 0.656619045127078, 'Accuracy': 0.658267716535433, 'Precision_macro': 0.7296149360894519, 'Recall_macro': 0.7098720922941877}\n",
            "TaskB:{'F1_macro': 0.7328774750178371, 'Accuracy': 0.8795275590551181, 'Precision_macro': 0.846822179551004, 'Recall_macro': 0.69}\n",
            "TaskC:{'F1_macro': 0.40121982436124587, 'Accuracy': 0.8692913385826772, 'Precision_macro': 0.5831299007378742, 'Recall_macro': 0.33775100278244935}\n"
          ]
        }
      ]
    },
    {
      "cell_type": "code",
      "source": [
        "evaluate_model(model,train_input_ids,train_input_masks,train_OFF,train_HS,train_OFF_not_HS,train_HS_bn)"
      ],
      "metadata": {
        "id": "cr79rZrWIkm4",
        "trusted": true,
        "colab": {
          "base_uri": "https://localhost:8080/",
          "height": 167
        },
        "outputId": "a2d451d9-db38-4d97-eee7-d3cb9dfc2dff"
      },
      "execution_count": null,
      "outputs": [
        {
          "output_type": "error",
          "ename": "NameError",
          "evalue": "ignored",
          "traceback": [
            "\u001b[0;31m---------------------------------------------------------------------------\u001b[0m",
            "\u001b[0;31mNameError\u001b[0m                                 Traceback (most recent call last)",
            "\u001b[0;32m<ipython-input-14-545b55067639>\u001b[0m in \u001b[0;36m<module>\u001b[0;34m()\u001b[0m\n\u001b[0;32m----> 1\u001b[0;31m \u001b[0mevaluate_model\u001b[0m\u001b[0;34m(\u001b[0m\u001b[0mmodel\u001b[0m\u001b[0;34m,\u001b[0m\u001b[0mtrain_input_ids\u001b[0m\u001b[0;34m,\u001b[0m\u001b[0mtrain_input_masks\u001b[0m\u001b[0;34m,\u001b[0m\u001b[0mtrain_OFF\u001b[0m\u001b[0;34m,\u001b[0m\u001b[0mtrain_HS\u001b[0m\u001b[0;34m,\u001b[0m\u001b[0mtrain_OFF_not_HS\u001b[0m\u001b[0;34m,\u001b[0m\u001b[0mtrain_HS_bn\u001b[0m\u001b[0;34m)\u001b[0m\u001b[0;34m\u001b[0m\u001b[0;34m\u001b[0m\u001b[0m\n\u001b[0m",
            "\u001b[0;31mNameError\u001b[0m: name 'train_OFF' is not defined"
          ]
        }
      ]
    },
    {
      "cell_type": "code",
      "source": [
        "def zip_file(task):\n",
        "    with ZipFile(task+\".zip\", 'w') as myzip:\n",
        "        myzip.write(task+\".txt\")\n",
        "    myzip.close()\n",
        "    \n",
        "def submission_gen_taskA(predictions):\n",
        "    sub=[]\n",
        "    for i in predictions:\n",
        "        if i==1:\n",
        "            sub.append(\"OFF\")\n",
        "        else :\n",
        "            sub.append(\"NOT_OFF\")\n",
        "    pd.DataFrame(sub).to_csv(\"TaskA.txt\",index=False,header=False)\n",
        "\n",
        "def submission_gen_taskB(predictions):\n",
        "    sub=[]\n",
        "    for i in predictions:\n",
        "        if i==1:\n",
        "            sub.append(\"HS\")\n",
        "        else :\n",
        "            sub.append(\"NOT_HS\")\n",
        "    pd.DataFrame(sub).to_csv(\"TaskB.txt\",index=False,header=False)\n",
        "\n",
        "def submission_gen_taskC(predictions):\n",
        "    sub=[]\n",
        "    for i in predictions:\n",
        "        if i==0:\n",
        "            sub.append(\"NOT_HS\")\n",
        "        else:\n",
        "            sub.append(\"HS\"+str(i))\n",
        "    pd.DataFrame(sub).to_csv(\"TaskC.txt\",index=False,header=False)\n",
        "    \n",
        "def submission_gen():\n",
        "    submission_gen_taskA(eval_taskA(predictions_OFF,labels_OFF,return_predictions=True))\n",
        "    submission_gen_taskB(eval_taskB2(predictions_HS_bn,labels_HS_bn,return_predictions=True))\n",
        "    submission_gen_taskC(eval_taskC(predictions_HS,labels_HS,return_predictions=True))\n",
        "\n",
        "#submission_gen()"
      ],
      "metadata": {
        "tags": [],
        "id": "xUidRB8UvQNc",
        "trusted": true
      },
      "execution_count": null,
      "outputs": []
    }
  ]
}